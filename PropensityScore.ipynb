{
  "nbformat": 4,
  "nbformat_minor": 0,
  "metadata": {
    "colab": {
      "provenance": [],
      "collapsed_sections": [
        "-DXCd8tTMhj9",
        "KMi3WfLLRkun",
        "3REyVxNOY2eV",
        "TmhKU-SWNqGh",
        "MtifyhAmywRA",
        "vWmWMsmfMCVn",
        "MD_InJlKNtdt",
        "ECiXNTXgMYnw",
        "fgI6PNYLNvgg",
        "TG03nvjjORGZ",
        "G2saiVdMOTUw",
        "7HWTsHKgwhgj"
      ]
    },
    "kernelspec": {
      "name": "python3",
      "display_name": "Python 3"
    },
    "language_info": {
      "name": "python"
    }
  },
  "cells": [
    {
      "cell_type": "markdown",
      "source": [
        "# 傾向スコアを用いた因果推論\n",
        "\n",
        "- 概要\n",
        "    - バイアスのある人工データを生成し，下記の手法それぞれで因果効果を推定．結果を比較する．\n",
        "      - 単純な群間比較\n",
        "      - 傾向スコアマッチング（非復元抽出/復元抽出）\n",
        "      - IPW (Inverse Probability Weighting) 法\n",
        "      - OW (Overlap Weighting) 法\n",
        "\n",
        "- 参考\n",
        " - 因果効果の推定！Rで実践 - 傾向スコア，マッチング，IPW推定量\n",
        "    - https://tomoshige-n.hatenablog.com/entry/2016/06/19/033252）\n",
        " - 傾向スコアを使った因果効果の推定方法\n",
        "    - https://qiita.com/StoneRIeverKS/items/80c805676ed4dc5f8de4"
      ],
      "metadata": {
        "id": "a8AbvICvMm2X"
      }
    },
    {
      "cell_type": "code",
      "source": [
        "# Libraries\n",
        "import numpy as np\n",
        "import pandas as pd\n",
        "import matplotlib.pyplot as plt\n",
        "import matplotlib as mpl\n",
        "import matplotlib.gridspec as gridspec\n",
        "import statsmodels.api as sm\n",
        "from statsmodels.regression.linear_model import WLS\n",
        "from sklearn.metrics import roc_auc_score"
      ],
      "metadata": {
        "id": "vRKCBlAgM-A9"
      },
      "execution_count": 240,
      "outputs": []
    },
    {
      "cell_type": "markdown",
      "source": [
        "## 1. バイアスのある人工データ生成\n",
        "- 真の効果は負であるにもかかわらず，単純な群間比較ではあたかも正の効果があるように見えてしまう人工データを生成する\n"
      ],
      "metadata": {
        "id": "-DXCd8tTMhj9"
      }
    },
    {
      "cell_type": "code",
      "execution_count": 241,
      "metadata": {
        "id": "lojnt901MTsi"
      },
      "outputs": [],
      "source": [
        "# Seed\n",
        "np.random.seed(1)\n",
        "\n",
        "# サンプル数\n",
        "n = 10000\n",
        "\n",
        "# 特徴量：X = [x1, x2, x3, x4]\n",
        "# x1, x2: 量的変数\n",
        "# x3, x4: 質的変数\n",
        "x1 = np.random.randn(n)\n",
        "x2 = np.random.randn(n)\n",
        "x3 = np.random.randint(0, 2, n)\n",
        "x4 = np.random.randint(0, 2, n)\n",
        "\n",
        "# 真の傾向スコア：e\n",
        "# 設定：x2, x3が大きいほど，x1, x4が小さいほど介入を受ける確率が大きくなる\n",
        "x = -0.8 * x1 + 0.8 * x2 + 0.25 * x3 - 0.2 * x4\n",
        "e_true = np.exp(x) / (1 + np.exp(x))\n",
        "\n",
        "# 介入変数：z\n",
        "z = np.random.binomial(n = 1, p = e_true)\n",
        "\n",
        "# 真の効果\n",
        "effect_true = -5.00\n",
        "\n",
        "# 結果変数：y\n",
        "# 設定：傾向スコアが大きいほどyも大きくなる\n",
        "y = 80 + effect_true * z - 7 * x1 + 6 * x2 + 6 * x3 - 4 * x4 + np.random.randn(n)\n",
        "\n",
        "# データフレーム作成\n",
        "df = pd.DataFrame({\n",
        "    \"user_id\": range(1, n + 1, 1), \n",
        "    \"y\": y, \n",
        "    \"z\": z, \n",
        "    \"x1\": x1, \n",
        "    \"x2\": x2, \n",
        "    \"x3\": x3, \n",
        "    \"x4\": x4, \n",
        "    \"e_true\": e_true\n",
        "}).sort_values(\"z\").reset_index(drop = True)\n",
        "\n",
        "# 特徴量リスト\n",
        "cov_list_all = pd.DataFrame([\"x1\", \"x2\", \"x3\", \"x4\"], columns = [\"cov_name\"])\n",
        "\n",
        "# 質的変数flg\n",
        "cov_list_all[\"categorical\"] = [0, 0, 1, 1]"
      ]
    },
    {
      "cell_type": "code",
      "source": [
        "# 真の傾向スコアの分布\n",
        "plt.hist(df[\"e_true\"][df[\"z\"] == 0], bins = 50, alpha = 0.5, label = \"CG\")\n",
        "plt.hist(df[\"e_true\"][df[\"z\"] == 1], bins = 50, alpha = 0.5, label = \"TG\")\n",
        "plt.legend(loc = \"best\")\n",
        "plt.xlabel(\"True propensity score\")\n",
        "plt.ylabel(\"Count\")"
      ],
      "metadata": {
        "colab": {
          "base_uri": "https://localhost:8080/",
          "height": 296
        },
        "id": "4WcLwceA71qv",
        "outputId": "6ce9c5cd-9da7-41f4-bd72-60d22342a462"
      },
      "execution_count": 242,
      "outputs": [
        {
          "output_type": "execute_result",
          "data": {
            "text/plain": [
              "Text(0, 0.5, 'Count')"
            ]
          },
          "metadata": {},
          "execution_count": 242
        },
        {
          "output_type": "display_data",
          "data": {
            "text/plain": [
              "<Figure size 432x288 with 1 Axes>"
            ],
            "image/png": "[encoded data removed]"
          },
          "metadata": {
            "needs_background": "light"
          }
        }
      ]
    },
    {
      "cell_type": "markdown",
      "source": [
        "## 2. 単純な群間比較"
      ],
      "metadata": {
        "id": "KMi3WfLLRkun"
      }
    },
    {
      "cell_type": "code",
      "source": [
        "# 群ごとの平均値の差\n",
        "effect_naive = df.groupby(\"z\")[\"y\"].mean()[1] - df.groupby(\"z\")[\"y\"].mean()[0]\n",
        "effect_naive"
      ],
      "metadata": {
        "colab": {
          "base_uri": "https://localhost:8080/"
        },
        "id": "oiUpIcrsMf9X",
        "outputId": "b389d3b2-99f8-4428-bf7c-6fc6edb21624"
      },
      "execution_count": 243,
      "outputs": [
        {
          "output_type": "execute_result",
          "data": {
            "text/plain": [
              "3.5633457373810558"
            ]
          },
          "metadata": {},
          "execution_count": 243
        }
      ]
    },
    {
      "cell_type": "code",
      "source": [
        "# 結果変数の介入変数への単回帰でも同じ結果を得る\n",
        "Y = df[\"y\"]\n",
        "X = sm.add_constant(df[\"z\"])\n",
        "result_comp = sm.OLS(Y, X).fit()\n",
        "print(result_comp.summary())"
      ],
      "metadata": {
        "colab": {
          "base_uri": "https://localhost:8080/"
        },
        "id": "_L4kzgSiXpcw",
        "outputId": "9e8a7543-08a7-48df-dbb6-4a0cbc1fa013"
      },
      "execution_count": 244,
      "outputs": [
        {
          "output_type": "stream",
          "name": "stdout",
          "text": [
            "                            OLS Regression Results                            \n",
            "==============================================================================\n",
            "Dep. Variable:                      y   R-squared:                       0.039\n",
            "Model:                            OLS   Adj. R-squared:                  0.038\n",
            "Method:                 Least Squares   F-statistic:                     401.4\n",
            "Date:                Mon, 31 Oct 2022   Prob (F-statistic):           1.44e-87\n",
            "Time:                        14:05:16   Log-Likelihood:                -36041.\n",
            "No. Observations:               10000   AIC:                         7.209e+04\n",
            "Df Residuals:                    9998   BIC:                         7.210e+04\n",
            "Df Model:                           1                                         \n",
            "Covariance Type:            nonrobust                                         \n",
            "==============================================================================\n",
            "                 coef    std err          t      P>|t|      [0.025      0.975]\n",
            "------------------------------------------------------------------------------\n",
            "const         76.6451      0.127    605.842      0.000      76.397      76.893\n",
            "z              3.5633      0.178     20.034      0.000       3.215       3.912\n",
            "==============================================================================\n",
            "Omnibus:                        2.977   Durbin-Watson:                   1.993\n",
            "Prob(Omnibus):                  0.226   Jarque-Bera (JB):                2.946\n",
            "Skew:                           0.035   Prob(JB):                        0.229\n",
            "Kurtosis:                       3.048   Cond. No.                         2.63\n",
            "==============================================================================\n",
            "\n",
            "Notes:\n",
            "[1] Standard Errors assume that the covariance matrix of the errors is correctly specified.\n"
          ]
        },
        {
          "output_type": "stream",
          "name": "stderr",
          "text": [
            "/usr/local/lib/python3.7/dist-packages/statsmodels/tsa/tsatools.py:142: FutureWarning: In a future version of pandas all arguments of concat except for the argument 'objs' will be keyword-only\n",
            "  x = pd.concat(x[::order], 1)\n"
          ]
        }
      ]
    },
    {
      "cell_type": "markdown",
      "source": [
        "## 3. 傾向スコアの推定\n",
        "- 手法：ロジスティック回帰"
      ],
      "metadata": {
        "id": "3REyVxNOY2eV"
      }
    },
    {
      "cell_type": "code",
      "source": [
        "# ロジスティック回帰\n",
        "Y = df[\"z\"]\n",
        "X = sm.add_constant(df[[\"x1\", \"x2\", \"x3\", \"x4\"]])\n",
        "model_logit = sm.Logit(Y, X)\n",
        "result_logit = model_logit.fit()\n",
        "\n",
        "# 傾向スコアの推定値\n",
        "df[\"e_hat\"] = model_logit.predict(result_logit.params)\n",
        "\n",
        "# 推定結果\n",
        "print(result_logit.summary())"
      ],
      "metadata": {
        "colab": {
          "base_uri": "https://localhost:8080/"
        },
        "id": "hc9usAeWY4cA",
        "outputId": "9061ddd2-a460-46bb-bac5-76cdb9570151"
      },
      "execution_count": 245,
      "outputs": [
        {
          "output_type": "stream",
          "name": "stdout",
          "text": [
            "Optimization terminated successfully.\n",
            "         Current function value: 0.578574\n",
            "         Iterations 6\n",
            "                           Logit Regression Results                           \n",
            "==============================================================================\n",
            "Dep. Variable:                      z   No. Observations:                10000\n",
            "Model:                          Logit   Df Residuals:                     9995\n",
            "Method:                           MLE   Df Model:                            4\n",
            "Date:                Mon, 31 Oct 2022   Pseudo R-squ.:                  0.1652\n",
            "Time:                        14:05:35   Log-Likelihood:                -5785.7\n",
            "converged:                       True   LL-Null:                       -6930.8\n",
            "Covariance Type:            nonrobust   LLR p-value:                     0.000\n",
            "==============================================================================\n",
            "                 coef    std err          z      P>|z|      [0.025      0.975]\n",
            "------------------------------------------------------------------------------\n",
            "const         -0.0179      0.038     -0.466      0.641      -0.093       0.057\n",
            "x1            -0.8244      0.026    -32.197      0.000      -0.875      -0.774\n",
            "x2             0.7979      0.025     31.541      0.000       0.748       0.848\n",
            "x3             0.2271      0.045      5.042      0.000       0.139       0.315\n",
            "x4            -0.1264      0.045     -2.806      0.005      -0.215      -0.038\n",
            "==============================================================================\n"
          ]
        },
        {
          "output_type": "stream",
          "name": "stderr",
          "text": [
            "/usr/local/lib/python3.7/dist-packages/statsmodels/tsa/tsatools.py:142: FutureWarning: In a future version of pandas all arguments of concat except for the argument 'objs' will be keyword-only\n",
            "  x = pd.concat(x[::order], 1)\n"
          ]
        }
      ]
    },
    {
      "cell_type": "code",
      "source": [
        "# 群ごとの傾向スコア推定値の分布\n",
        "plt.hist(df[\"e_hat\"][df[\"z\"] == 0], bins = 50, alpha = 0.5, label = \"CG\")\n",
        "plt.hist(df[\"e_hat\"][df[\"z\"] == 1], bins = 50, alpha = 0.5, label = \"TG\")\n",
        "plt.legend(loc = \"best\")\n",
        "plt.xlabel(\"Estimated propensity score\")\n",
        "plt.ylabel(\"Count\")"
      ],
      "metadata": {
        "colab": {
          "base_uri": "https://localhost:8080/",
          "height": 300
        },
        "id": "sOVUGiyDcjjT",
        "outputId": "268a428d-4f52-4b65-88c2-07f28b47fd06"
      },
      "execution_count": 246,
      "outputs": [
        {
          "output_type": "execute_result",
          "data": {
            "text/plain": [
              "Text(0, 0.5, 'Count')"
            ]
          },
          "metadata": {},
          "execution_count": 246
        },
        {
          "output_type": "display_data",
          "data": {
            "text/plain": [
              "<Figure size 432x288 with 1 Axes>"
            ],
            "image/png": "[encoded data removed]"
          },
          "metadata": {
            "needs_background": "light"
          }
        }
      ]
    },
    {
      "cell_type": "markdown",
      "source": [
        "## 4. 傾向スコアマッチング\n",
        "- 最近傍マッチング\n",
        "  - 傾向スコアの差が0.1より大きい場合はマッチさせないことにする"
      ],
      "metadata": {
        "id": "TmhKU-SWNqGh"
      }
    },
    {
      "cell_type": "code",
      "source": [
        "# 傾向スコアマッチング（最近傍マッチング）を実行するクラス\n",
        "class PropensityScoreMatching:\n",
        "\n",
        "    # 傾向スコアマッチングを実行\n",
        "    def __init__(self, df, uid, cov_list, z, ps, rs, nrep):\n",
        "        \"\"\"\n",
        "        非復元抽出 or 復元抽出による傾向スコアマッチングを実行する。\n",
        "\n",
        "        Parameters\n",
        "        ----------\n",
        "        df: data frame\n",
        "          ユーザID、介入変数、特徴量、傾向スコアの推定値をカラムとして持つデータフレーム\n",
        "        uid: array\n",
        "          ユーザID\n",
        "        cov_list: list\n",
        "          特徴量リスト\n",
        "        z: array\n",
        "          介入変数\n",
        "        ps: array\n",
        "          傾向スコアの推定値\n",
        "        rs: array\n",
        "          結果変数\n",
        "        nrep:\n",
        "          非復元抽出flg（0 or 1）\n",
        "        \"\"\"\n",
        "        self.df = df\n",
        "        self.uid = uid\n",
        "        self.cov_list = cov_list\n",
        "        self.z = z\n",
        "        self.ps = ps\n",
        "        self.rs = rs\n",
        "        self.nrep = nrep\n",
        "\n",
        "        # マッチング後のTG/CGテーブル\n",
        "        self.df_matched_tg = pd.DataFrame(index = [], columns = self.df.columns)\n",
        "        self.df_matched_cg = pd.DataFrame(index = [], columns = self.df.columns)\n",
        "\n",
        "        # マッチング後の傾向スコアの差の絶対値を格納する配列\n",
        "        self.df_score_diff = np.empty(0, dtype = \"float64\")\n",
        "\n",
        "        # 介入の有無でデータフレームを分割（いずれもインデックスをゼロスタートにしておく）\n",
        "        self.df0 = self.df[self.df[self.z] == 0].reset_index(drop = True)\n",
        "        self.df1 = self.df[self.df[self.z] == 1].reset_index(drop = True)\n",
        "\n",
        "        # TGの人数とCGの人数で少ない方の人数を取得\n",
        "        self.num_matching = min(self.df0.shape[0], self.df1.shape[0])\n",
        "\n",
        "        # 最近傍マッチングで傾向スコアマッチング\n",
        "        # Step1. TGからユーザiをとってくる\n",
        "        # Step2. ユーザiの傾向スコアと、CGにおける各ユーザの傾向スコアの差の絶対値を計算\n",
        "        # Step3. 差が最小のユーザjを特定してマッチさせる（ペアをつくる）\n",
        "        # Step4. Step1～3をnum_matching回繰り返す\n",
        "        for i in range(self.num_matching):\n",
        "\n",
        "            # TGのユーザiをマッチング後のTGテーブルに格納\n",
        "            tg_user = pd.DataFrame(self.df1.iloc[i]).T\n",
        "            self.df_matched_tg = pd.concat([self.df_matched_tg, tg_user])\n",
        "\n",
        "            # TGのユーザiの傾向スコアを取得\n",
        "            eps1 = self.df1[self.ps][i]\n",
        "\n",
        "            # CGのすべてのユーザjについて傾向スコアの差の絶対値を計算\n",
        "            abs_eps_list = [abs(eps1 - eps0) for eps0 in self.df0[self.ps]]\n",
        "              \n",
        "            # 傾向スコアの差の絶対値が最小となるようなインデックスと傾向スコアの差，対応するself.df0の行を取得\n",
        "            min_index = abs_eps_list.index(min(abs_eps_list))\n",
        "            min_score_diff = abs_eps_list[min_index]\n",
        "            min_user = pd.DataFrame(self.df0.iloc[min_index]).T\n",
        "\n",
        "            # 傾向スコアの差の絶対値を格納\n",
        "            self.df_score_diff = np.append(self.df_score_diff, min_score_diff) \n",
        "\n",
        "            # min_userをマッチング後のCGテーブルに格納\n",
        "            self.df_matched_cg = pd.concat([self.df_matched_cg, min_user])\n",
        "\n",
        "            # self.df0からmin_userを削除してインデックスをリセット（非復元抽出の場合）\n",
        "            if self.nrep == 1:\n",
        "                self.df0 = self.df0.drop(min_index).reset_index(drop = True)\n",
        "        \n",
        "        # 傾向スコアの距離が閾値以下のペアのみ残す（キャリパーマッチング）\n",
        "        caliper = 0.1 # 閾値\n",
        "        self.df_matched_tg = self.df_matched_tg[self.df_score_diff <= caliper]\n",
        "        self.df_matched_cg = self.df_matched_cg[self.df_score_diff <= caliper]\n",
        "        \n",
        "        # df_matched_tgとdf_matched_cgをconcat\n",
        "        self.df_matched = pd.concat([self.df_matched_tg, self.df_matched_cg]).reset_index(drop = True)\n",
        "\n",
        "    # マッチング後のユーザリストを取得\n",
        "    def matched_user_list(self):\n",
        "        \"\"\"\n",
        "        マッチング後のユーザリストを出力する。\n",
        "        \"\"\"\n",
        "        return self.df_matched\n",
        "    \n",
        "    # 各群の結果変数の平均を取得\n",
        "    def get_effect(self):\n",
        "        self.mean0 = self.df_matched[self.df_matched[self.z] == 0][self.rs].mean()\n",
        "        self.mean1 = self.df_matched[self.df_matched[self.z] == 1][self.rs].mean()\n",
        "        return self.mean1 - self.mean0\n",
        "    \n",
        "    # Covariate Balance Check（標準化平均差：Austin(2011)によるもの）\n",
        "    def standardized_difference(self):\n",
        "        \"\"\"\n",
        "        特徴量ごとにマッチング前後における標準化平均差を計算し、可視化する。\n",
        "        \"\"\"\n",
        "        # 共変量調整前\n",
        "        denom_bf = np.sqrt( (np.var(self.df[self.df[self.z] == 1][self.cov_list]) + np.var(self.df[self.df[self.z] == 0][self.cov_list])) / 2 )\n",
        "        self.cov_sd_bf = abs( (np.mean(self.df[self.df[self.z] == 1][self.cov_list]) - np.mean(self.df[self.df[self.z] == 0][self.cov_list]) ) / denom_bf )\n",
        "\n",
        "        # 共変量調整後\n",
        "        denom_af = np.sqrt( (np.var(self.df_matched[self.df_matched[self.z] == 1][self.cov_list]) + np.var(self.df_matched[self.df_matched[self.z] == 0][self.cov_list])) / 2 )\n",
        "        self.cov_sd_af = abs( (np.mean(self.df_matched[self.df_matched[self.z] == 1][self.cov_list]) - np.mean(self.df_matched[self.df_matched[self.z] == 0][self.cov_list])) / denom_af )\n",
        "\n",
        "        # データフレーム化\n",
        "        sd_df = pd.DataFrame({\n",
        "            \"before\": self.cov_sd_bf, \n",
        "            \"after\": self.cov_sd_af\n",
        "        })\n",
        "        sd_df = sd_df.fillna(0).reset_index()\n",
        "\n",
        "        # 作図：love plot\n",
        "        plt.figure(figsize=(6, 4))\n",
        "        plt.scatter(sd_df['index'], sd_df['before'], label = 'not adjusted')\n",
        "        plt.scatter(sd_df['index'], sd_df['after'], label = 'adjusted')\n",
        "        plt.hlines([0.1], xmin = -1, xmax = len(self.cov_list), color = \"red\", linestyle = \"dashed\", linewidth = 1)\n",
        "        plt.legend()\n",
        "        plt.ylabel('Standardized mean difference')\n",
        "        plt.xlabel('Covariate')\n",
        "        plt.grid(True)\n",
        "        plt.show()\n",
        "\n",
        "        return sd_df"
      ],
      "metadata": {
        "id": "kj36VDnT0kM2"
      },
      "execution_count": 247,
      "outputs": []
    },
    {
      "cell_type": "markdown",
      "source": [
        "### 非復元抽出の場合"
      ],
      "metadata": {
        "id": "lfxwGosg0KK5"
      }
    },
    {
      "cell_type": "code",
      "source": [
        "#インスタンス作成\n",
        "matching_result_nrep = (\n",
        "    PropensityScoreMatching(\n",
        "        df = df,                                      # データフレーム\n",
        "        uid = \"user_id\",                              # user_id\n",
        "        cov_list = cov_list_all[\"cov_name\"].tolist(), # 特徴量リスト\n",
        "        z = \"z\",                                      # 介入変数\n",
        "        ps = \"e_hat\",                                 # 傾向スコアの推定値\n",
        "        rs = \"y\",                                     # 結果変数\n",
        "        nrep = 1                                      # If nrep = 1, 非復元抽出を実行, otherwise, 復元抽出を実行\n",
        "    )\n",
        ")"
      ],
      "metadata": {
        "id": "RD9x9JQddV1B"
      },
      "execution_count": 259,
      "outputs": []
    },
    {
      "cell_type": "code",
      "source": [
        "# マッチング後のユーザリスト\n",
        "df_after_matching_nrep = matching_result_nrep.matched_user_list()"
      ],
      "metadata": {
        "id": "SryYGCADXVjw"
      },
      "execution_count": 260,
      "outputs": []
    },
    {
      "cell_type": "markdown",
      "source": [
        "#### マッチング後の傾向スコアの分布"
      ],
      "metadata": {
        "id": "_yNswkJLP7p4"
      }
    },
    {
      "cell_type": "code",
      "source": [
        "# マッチング後の傾向スコアの分布\n",
        "plt.figure(figsize = (10, 6))\n",
        "plt.hist(df_after_matching_nrep[df_after_matching_nrep[\"z\"] == 0][\"e_hat\"], bins = 50, alpha = 0.5, label = \"CG\")\n",
        "plt.hist(df_after_matching_nrep[df_after_matching_nrep[\"z\"] == 1][\"e_hat\"], bins = 50, alpha = 0.5, label = \"TG\")\n",
        "plt.legend(loc = \"best\")\n",
        "plt.xlabel(\"Propensity score\")\n",
        "plt.ylabel(\"Count\")"
      ],
      "metadata": {
        "colab": {
          "base_uri": "https://localhost:8080/",
          "height": 405
        },
        "id": "Qqi-ACGKPz3-",
        "outputId": "5cdd2e67-bcbf-4670-841f-f3f8ff88d226"
      },
      "execution_count": 261,
      "outputs": [
        {
          "output_type": "execute_result",
          "data": {
            "text/plain": [
              "Text(0, 0.5, 'Count')"
            ]
          },
          "metadata": {},
          "execution_count": 261
        },
        {
          "output_type": "display_data",
          "data": {
            "text/plain": [
              "<Figure size 720x432 with 1 Axes>"
            ],
            "image/png": "[encoded data removed]"
          },
          "metadata": {
            "needs_background": "light"
          }
        }
      ]
    },
    {
      "cell_type": "markdown",
      "source": [
        "#### 特徴量の分布可視化"
      ],
      "metadata": {
        "id": "MtifyhAmywRA"
      }
    },
    {
      "cell_type": "code",
      "source": [
        "# 標準化平均差\n",
        "matching_result_nrep.standardized_difference()"
      ],
      "metadata": {
        "colab": {
          "base_uri": "https://localhost:8080/",
          "height": 439
        },
        "id": "P_rCi1KpLqtV",
        "outputId": "3d1d9fc8-017d-4b0a-df1f-d354753a4be4"
      },
      "execution_count": 262,
      "outputs": [
        {
          "output_type": "display_data",
          "data": {
            "text/plain": [
              "<Figure size 432x288 with 1 Axes>"
            ],
            "image/png": "[encoded data removed]"
          },
          "metadata": {
            "needs_background": "light"
          }
        },
        {
          "output_type": "execute_result",
          "data": {
            "text/plain": [
              "  index    before     after\n",
              "0    x1  0.674972  0.019904\n",
              "1    x2  0.652676  0.060540\n",
              "2    x3  0.090942  0.034289\n",
              "3    x4  0.033986  0.000857"
            ],
            "text/html": [
              "\n",
              "  <div id=\"df-721c5b47-b288-4ec0-9aab-bad850ba7a95\">\n",
              "    <div class=\"colab-df-container\">\n",
              "      <div>\n",
              "<style scoped>\n",
              "    .dataframe tbody tr th:only-of-type {\n",
              "        vertical-align: middle;\n",
              "    }\n",
              "\n",
              "    .dataframe tbody tr th {\n",
              "        vertical-align: top;\n",
              "    }\n",
              "\n",
              "    .dataframe thead th {\n",
              "        text-align: right;\n",
              "    }\n",
              "</style>\n",
              "<table border=\"1\" class=\"dataframe\">\n",
              "  <thead>\n",
              "    <tr style=\"text-align: right;\">\n",
              "      <th></th>\n",
              "      <th>index</th>\n",
              "      <th>before</th>\n",
              "      <th>after</th>\n",
              "    </tr>\n",
              "  </thead>\n",
              "  <tbody>\n",
              "    <tr>\n",
              "      <th>0</th>\n",
              "      <td>x1</td>\n",
              "      <td>0.674972</td>\n",
              "      <td>0.019904</td>\n",
              "    </tr>\n",
              "    <tr>\n",
              "      <th>1</th>\n",
              "      <td>x2</td>\n",
              "      <td>0.652676</td>\n",
              "      <td>0.060540</td>\n",
              "    </tr>\n",
              "    <tr>\n",
              "      <th>2</th>\n",
              "      <td>x3</td>\n",
              "      <td>0.090942</td>\n",
              "      <td>0.034289</td>\n",
              "    </tr>\n",
              "    <tr>\n",
              "      <th>3</th>\n",
              "      <td>x4</td>\n",
              "      <td>0.033986</td>\n",
              "      <td>0.000857</td>\n",
              "    </tr>\n",
              "  </tbody>\n",
              "</table>\n",
              "</div>\n",
              "      <button class=\"colab-df-convert\" onclick=\"convertToInteractive('df-721c5b47-b288-4ec0-9aab-bad850ba7a95')\"\n",
              "              title=\"Convert this dataframe to an interactive table.\"\n",
              "              style=\"display:none;\">\n",
              "        \n",
              "  <svg xmlns=\"http://www.w3.org/2000/svg\" height=\"24px\"viewBox=\"0 0 24 24\"\n",
              "       width=\"24px\">\n",
              "    <path d=\"M0 0h24v24H0V0z\" fill=\"none\"/>\n",
              "    <path d=\"M18.56 5.44l.94 2.06.94-2.06 2.06-.94-2.06-.94-.94-2.06-.94 2.06-2.06.94zm-11 1L8.5 8.5l.94-2.06 2.06-.94-2.06-.94L8.5 2.5l-.94 2.06-2.06.94zm10 10l.94 2.06.94-2.06 2.06-.94-2.06-.94-.94-2.06-.94 2.06-2.06.94z\"/><path d=\"M17.41 7.96l-1.37-1.37c-.4-.4-.92-.59-1.43-.59-.52 0-1.04.2-1.43.59L10.3 9.45l-7.72 7.72c-.78.78-.78 2.05 0 2.83L4 21.41c.39.39.9.59 1.41.59.51 0 1.02-.2 1.41-.59l7.78-7.78 2.81-2.81c.8-.78.8-2.07 0-2.86zM5.41 20L4 18.59l7.72-7.72 1.47 1.35L5.41 20z\"/>\n",
              "  </svg>\n",
              "      </button>\n",
              "      \n",
              "  <style>\n",
              "    .colab-df-container {\n",
              "      display:flex;\n",
              "      flex-wrap:wrap;\n",
              "      gap: 12px;\n",
              "    }\n",
              "\n",
              "    .colab-df-convert {\n",
              "      background-color: #E8F0FE;\n",
              "      border: none;\n",
              "      border-radius: 50%;\n",
              "      cursor: pointer;\n",
              "      display: none;\n",
              "      fill: #1967D2;\n",
              "      height: 32px;\n",
              "      padding: 0 0 0 0;\n",
              "      width: 32px;\n",
              "    }\n",
              "\n",
              "    .colab-df-convert:hover {\n",
              "      background-color: #E2EBFA;\n",
              "      box-shadow: 0px 1px 2px rgba(60, 64, 67, 0.3), 0px 1px 3px 1px rgba(60, 64, 67, 0.15);\n",
              "      fill: #174EA6;\n",
              "    }\n",
              "\n",
              "    [theme=dark] .colab-df-convert {\n",
              "      background-color: #3B4455;\n",
              "      fill: #D2E3FC;\n",
              "    }\n",
              "\n",
              "    [theme=dark] .colab-df-convert:hover {\n",
              "      background-color: #434B5C;\n",
              "      box-shadow: 0px 1px 3px 1px rgba(0, 0, 0, 0.15);\n",
              "      filter: drop-shadow(0px 1px 2px rgba(0, 0, 0, 0.3));\n",
              "      fill: #FFFFFF;\n",
              "    }\n",
              "  </style>\n",
              "\n",
              "      <script>\n",
              "        const buttonEl =\n",
              "          document.querySelector('#df-721c5b47-b288-4ec0-9aab-bad850ba7a95 button.colab-df-convert');\n",
              "        buttonEl.style.display =\n",
              "          google.colab.kernel.accessAllowed ? 'block' : 'none';\n",
              "\n",
              "        async function convertToInteractive(key) {\n",
              "          const element = document.querySelector('#df-721c5b47-b288-4ec0-9aab-bad850ba7a95');\n",
              "          const dataTable =\n",
              "            await google.colab.kernel.invokeFunction('convertToInteractive',\n",
              "                                                     [key], {});\n",
              "          if (!dataTable) return;\n",
              "\n",
              "          const docLinkHtml = 'Like what you see? Visit the ' +\n",
              "            '<a target=\"_blank\" href=https://colab.research.google.com/notebooks/data_table.ipynb>data table notebook</a>'\n",
              "            + ' to learn more about interactive tables.';\n",
              "          element.innerHTML = '';\n",
              "          dataTable['output_type'] = 'display_data';\n",
              "          await google.colab.output.renderOutput(dataTable, element);\n",
              "          const docLink = document.createElement('div');\n",
              "          docLink.innerHTML = docLinkHtml;\n",
              "          element.appendChild(docLink);\n",
              "        }\n",
              "      </script>\n",
              "    </div>\n",
              "  </div>\n",
              "  "
            ]
          },
          "metadata": {},
          "execution_count": 262
        }
      ]
    },
    {
      "cell_type": "code",
      "source": [
        "# 度数分布表を作成する関数\n",
        "def freq_dist(data, class_width = None):\n",
        "    \"\"\"\n",
        "    度数分布表を出力する。\n",
        "\n",
        "    Parameters\n",
        "    ----------\n",
        "    data: array\n",
        "      度数分布表を作成したい変数のデータ\n",
        "    class_width: \n",
        "      階級幅（スタージェスの公式で求める場合は何も渡さなくてOK）\n",
        "    \n",
        "    Returns\n",
        "    ----------\n",
        "    bins: array\n",
        "      境界値\n",
        "    freq_df: data frame\n",
        "      度数分布表（カラム：階級値（bin）、度数（freq）、相対度数（rel_freq））\n",
        "\n",
        "    \"\"\"\n",
        "    data = np.asarray(data)\n",
        "\n",
        "    # スタージェスの公式で階級数を求め、階級幅を決定する場合\n",
        "    if class_width is None:\n",
        "        class_size = int(np.log2(data.size).round()) + 1            # 階級数\n",
        "        class_width = round((data.max() - data.min()) / class_size) # 階級幅\n",
        "    \n",
        "    bins = np.arange(data.min(), data.max() + class_width, class_width) # 境界値\n",
        "    hist = np.histogram(data, bins)[0]                                  # 度数\n",
        "    freq_df = pd.DataFrame({\"bin\": (bins[1:] + bins[:-1]) / 2, \n",
        "                            \"freq\": hist,\n",
        "                            \"rel_freq\": hist / hist.sum()}, \n",
        "                            index = pd.Index([f\"{round(bins[i], 2)}-{round(bins[i+1], 2)}\" for i in range(hist.size)]))\n",
        "\n",
        "    # 境界値と度数分布表を出力\n",
        "    return bins, freq_df"
      ],
      "metadata": {
        "id": "XcSwOtWQy2w-"
      },
      "execution_count": 263,
      "outputs": []
    },
    {
      "cell_type": "code",
      "source": [
        "# 調整前後における各特徴量の分布\n",
        "# 質的変数：積み上げ横棒グラフ、量的変数：度数分布表を作成し棒グラフで描画\n",
        "\n",
        "# マッチング前のdf\n",
        "df_bf = df.copy()\n",
        "df_bf[\"TGCG\"] = [\"TG\" if x == 1 else \"CG\" for x in df_bf[\"z\"]]\n",
        "\n",
        "# マッチング後のdf\n",
        "df_af = df_after_matching_nrep.copy()\n",
        "df_af[\"TGCG\"] = [\"TG\" if x == 1 else \"CG\" for x in df_af[\"z\"]]\n",
        "\n",
        "# 分布を可視化する特徴量を指定\n",
        "cov_list_vis = cov_list_all \n",
        "\n",
        "# 描画\n",
        "n = len(cov_list_vis)\n",
        "ncol = 4\n",
        "nrow = int(np.ceil(n / 4))\n",
        "\n",
        "fig = plt.figure(figsize=(20, 6))\n",
        "outer = gridspec.GridSpec(nrow, ncol, wspace = 0.2, hspace = 0.3)\n",
        "\n",
        "# Outer loop\n",
        "for i in range(n):\n",
        "    \n",
        "    # 描画する特徴量を選択\n",
        "    cov = cov_list_vis[\"cov_name\"][i]\n",
        "\n",
        "    # 質的変数の場合\n",
        "    if cov_list_vis[\"categorical\"][i] == 1:\n",
        "\n",
        "        # 2×1グリッド\n",
        "        inner = gridspec.GridSpecFromSubplotSpec(2, 1, subplot_spec = outer[i], wspace = 0.1, hspace = 0.4)\n",
        "\n",
        "        # データ：調整前\n",
        "        bf = pd.crosstab(index = df_bf[\"TGCG\"], columns = df_bf[cov])\n",
        "        bf = bf.div(bf.sum(axis = 1), axis = 0) # 正規化\n",
        "\n",
        "        # 描画：調整前\n",
        "        n_rows_bf, n_cols_bf = bf.shape\n",
        "        positions_bf = np.arange(n_rows_bf)\n",
        "        colors_bf = plt.get_cmap(\"tab20c\")(np.linspace(0, 1, n_cols_bf))\n",
        "        offsets_bf = np.zeros(n_rows_bf, dtype = bf.values.dtype)\n",
        "\n",
        "        ax1 = plt.Subplot(fig, inner[0])\n",
        "        ax1.set_yticks(positions_bf)\n",
        "        ax1.set_yticklabels(bf.index)\n",
        "        ax1.set_title(\"Feature: \" + cov + \"\\n\" + \"Before\")\n",
        "\n",
        "        for i in range(len(bf.columns)):\n",
        "\n",
        "            # 棒グラフを描画\n",
        "            bar = ax1.barh(positions_bf, bf.iloc[:, i], left = offsets_bf, color = colors_bf[i])\n",
        "            offsets_bf += bf.iloc[:, i]\n",
        "\n",
        "            # 棒グラフのラベルを描画\n",
        "            for rect in bar:\n",
        "                cx = rect.get_x() + rect.get_width() / 2\n",
        "                cy = rect.get_y() + rect.get_height() / 2\n",
        "                ax1.text(cx, cy, bf.columns[i], color = \"k\", ha = \"center\", va = \"center\")\n",
        "        \n",
        "        fig.add_subplot(ax1)\n",
        "\n",
        "        # データ：調整後\n",
        "        af = pd.crosstab(index = df_af[\"TGCG\"], columns = df_af[cov])\n",
        "        af = af.div(af.sum(axis = 1), axis = 0) # 正規化\n",
        "\n",
        "        # 描画：調整後\n",
        "        n_rows_af, n_cols_af = af.shape\n",
        "        positions_af = np.arange(n_rows_af)\n",
        "        colors_af = plt.get_cmap(\"tab20c\")(np.linspace(0, 1, n_cols_af))\n",
        "        offsets_af = np.zeros(n_rows_af, dtype = af.values.dtype)\n",
        "\n",
        "        ax2 = plt.Subplot(fig, inner[1])\n",
        "        ax2.set_yticks(positions_af)\n",
        "        ax2.set_yticklabels(af.index)\n",
        "        ax2.set_title(\"After\")\n",
        "\n",
        "        for i in range(len(af.columns)):\n",
        "\n",
        "            # 棒グラフを描画\n",
        "            bar = ax2.barh(positions_af, af.iloc[:, i], left = offsets_af, color = colors_af[i])\n",
        "            offsets_af += af.iloc[:, i]\n",
        "\n",
        "            # 棒グラフのラベルを描画\n",
        "            for rect in bar:\n",
        "                cx = rect.get_x() + rect.get_width() / 2\n",
        "                cy = rect.get_y() + rect.get_height() / 2\n",
        "                ax2.text(cx, cy, af.columns[i], color = \"k\", ha = \"center\", va = \"center\")\n",
        "        \n",
        "        fig.add_subplot(ax2)\n",
        "    \n",
        "    # 量的変数の場合\n",
        "    else: \n",
        "        \n",
        "        # 調整前TG/CG、調整後TG/CGの度数分布表\n",
        "        class_width = df_bf[cov].max() / 15\n",
        "        bins, bf = freq_dist(df_bf[cov], class_width) # 棒の本数を固定\n",
        "        freq_table = pd.DataFrame({\n",
        "            \"bin\": bf[\"bin\"], \n",
        "            \"rel_freq_cg_bf\": np.histogram(df_bf[cov][df_bf[\"z\"] == 0], bins)[0], \n",
        "            \"rel_freq_tg_bf\": np.histogram(df_bf[cov][df_bf[\"z\"] == 1], bins)[0], \n",
        "            \"rel_freq_cg_af\": np.histogram(df_af[cov][df_af[\"z\"] == 0], bins)[0], \n",
        "            \"rel_freq_tg_af\": np.histogram(df_af[cov][df_af[\"z\"] == 1], bins)[0]\n",
        "        })\n",
        "\n",
        "        # 相対度数に変換\n",
        "        freq_table[\"rel_freq_cg_bf\"] = freq_table[\"rel_freq_cg_bf\"] / freq_table[\"rel_freq_cg_bf\"].sum()\n",
        "        freq_table[\"rel_freq_tg_bf\"] = freq_table[\"rel_freq_tg_bf\"] / freq_table[\"rel_freq_tg_bf\"].sum()\n",
        "        freq_table[\"rel_freq_cg_af\"] = freq_table[\"rel_freq_cg_af\"] / freq_table[\"rel_freq_cg_af\"].sum()\n",
        "        freq_table[\"rel_freq_tg_af\"] = freq_table[\"rel_freq_tg_af\"] / freq_table[\"rel_freq_tg_af\"].sum()\n",
        "\n",
        "        # 2×1グリッド\n",
        "        inner = gridspec.GridSpecFromSubplotSpec(2, 1, subplot_spec = outer[i], wspace = 0.1, hspace = 0.4)\n",
        "\n",
        "        # 調整前\n",
        "        ax1 = plt.Subplot(fig, inner[0])\n",
        "        ax1.bar(freq_table[\"bin\"], freq_table[\"rel_freq_cg_bf\"], width = class_width, alpha = 0.5, color = \"blue\", label = \"CG\")\n",
        "        ax1.bar(freq_table[\"bin\"], freq_table[\"rel_freq_tg_bf\"], width = class_width, alpha = 0.5, color = \"orange\", label = \"TG\")\n",
        "        ax1.axvline(x = df_bf[cov][df_bf[\"z\"] == 0].mean(), linestyle = \"dashed\", linewidth = 1, color = \"blue\")\n",
        "        ax1.axvline(x = df_bf[cov][df_bf[\"z\"] == 1].mean(), linestyle = \"dashed\", linewidth = 1, color = \"orange\")\n",
        "        ax1.set_title(\"Feature: \" + cov + \"\\n\" + \"Before\")\n",
        "        ax1.legend(loc = \"best\")\n",
        "\n",
        "        fig.add_subplot(ax1)\n",
        "\n",
        "        # 調整後\n",
        "        ax2 = plt.Subplot(fig, inner[1])\n",
        "        ax2.bar(freq_table[\"bin\"], freq_table[\"rel_freq_cg_af\"], width = class_width, alpha = 0.5, color = \"blue\", label = \"CG\")\n",
        "        ax2.bar(freq_table[\"bin\"], freq_table[\"rel_freq_tg_af\"], width = class_width, alpha = 0.5, color = \"orange\", label = \"TG\")\n",
        "        ax2.axvline(x = df_af[cov][df_af[\"z\"] == 0].mean(), linestyle = \"dashed\", linewidth = 1, color = \"blue\")\n",
        "        ax2.axvline(x = df_af[cov][df_af[\"z\"] == 1].mean(), linestyle = \"dashed\", linewidth = 1, color = \"orange\")\n",
        "        ax2.set_title(\"After\")\n",
        "        ax2.legend(loc = \"best\")\n",
        "\n",
        "        fig.add_subplot(ax2)"
      ],
      "metadata": {
        "colab": {
          "base_uri": "https://localhost:8080/",
          "height": 405
        },
        "id": "JBk2xIT0y6VJ",
        "outputId": "5ecd3f7f-1808-4217-c644-cd971b9c7c43"
      },
      "execution_count": 264,
      "outputs": [
        {
          "output_type": "display_data",
          "data": {
            "text/plain": [
              "<Figure size 1440x432 with 8 Axes>"
            ],
            "image/png": "[encoded data removed]"
          },
          "metadata": {
            "needs_background": "light"
          }
        }
      ]
    },
    {
      "cell_type": "markdown",
      "source": [
        "#### 効果推定"
      ],
      "metadata": {
        "id": "vWmWMsmfMCVn"
      }
    },
    {
      "cell_type": "code",
      "source": [
        "# 傾向スコアマッチング（非復元抽出）による効果推定値\n",
        "effect_matching_nrep = matching_result_nrep.get_effect()\n",
        "effect_matching_nrep"
      ],
      "metadata": {
        "colab": {
          "base_uri": "https://localhost:8080/"
        },
        "id": "rGWU-jdsMJJE",
        "outputId": "0bdde0b7-d3f5-4c85-e4ca-7849ae580966"
      },
      "execution_count": 265,
      "outputs": [
        {
          "output_type": "execute_result",
          "data": {
            "text/plain": [
              "-4.625686851985904"
            ]
          },
          "metadata": {},
          "execution_count": 265
        }
      ]
    },
    {
      "cell_type": "code",
      "source": [
        "# マッチング後のデータを用いた，結果変数の介入変数への単回帰でも同じ結果を得る．\n",
        "Y = df_after_matching_nrep[\"y\"]\n",
        "X = sm.add_constant(df_after_matching_nrep[\"z\"])\n",
        "result_matching_nrep = sm.OLS(Y, X).fit()\n",
        "print(result_matching_nrep.summary())"
      ],
      "metadata": {
        "colab": {
          "base_uri": "https://localhost:8080/"
        },
        "id": "0rQXeDkPMMTI",
        "outputId": "c10d1cef-5876-4344-bb02-2e60619d2e7c"
      },
      "execution_count": 266,
      "outputs": [
        {
          "output_type": "stream",
          "name": "stdout",
          "text": [
            "                            OLS Regression Results                            \n",
            "==============================================================================\n",
            "Dep. Variable:                      y   R-squared:                       0.077\n",
            "Model:                            OLS   Adj. R-squared:                  0.077\n",
            "Method:                 Least Squares   F-statistic:                     391.3\n",
            "Date:                Mon, 31 Oct 2022   Prob (F-statistic):           1.06e-83\n",
            "Time:                        14:09:38   Log-Likelihood:                -16323.\n",
            "No. Observations:                4668   AIC:                         3.265e+04\n",
            "Df Residuals:                    4666   BIC:                         3.266e+04\n",
            "Df Model:                           1                                         \n",
            "Covariance Type:            nonrobust                                         \n",
            "==============================================================================\n",
            "                 coef    std err          t      P>|t|      [0.025      0.975]\n",
            "------------------------------------------------------------------------------\n",
            "const         80.7938      0.165    488.622      0.000      80.470      81.118\n",
            "z             -4.6257      0.234    -19.781      0.000      -5.084      -4.167\n",
            "==============================================================================\n",
            "Omnibus:                       17.616   Durbin-Watson:                   1.494\n",
            "Prob(Omnibus):                  0.000   Jarque-Bera (JB):               18.913\n",
            "Skew:                           0.114   Prob(JB):                     7.82e-05\n",
            "Kurtosis:                       3.213   Cond. No.                         2.62\n",
            "==============================================================================\n",
            "\n",
            "Notes:\n",
            "[1] Standard Errors assume that the covariance matrix of the errors is correctly specified.\n"
          ]
        },
        {
          "output_type": "stream",
          "name": "stderr",
          "text": [
            "/usr/local/lib/python3.7/dist-packages/statsmodels/tsa/tsatools.py:142: FutureWarning: In a future version of pandas all arguments of concat except for the argument 'objs' will be keyword-only\n",
            "  x = pd.concat(x[::order], 1)\n"
          ]
        }
      ]
    },
    {
      "cell_type": "markdown",
      "source": [
        "### 復元抽出の場合"
      ],
      "metadata": {
        "id": "5YabSNdARbpX"
      }
    },
    {
      "cell_type": "code",
      "source": [
        "#インスタンス作成\n",
        "matching_result_rep = (\n",
        "    PropensityScoreMatching(\n",
        "        df = df,                                      # データフレーム\n",
        "        uid = \"user_id\",                              # user_id\n",
        "        cov_list = cov_list_all[\"cov_name\"].tolist(), # 特徴量リスト\n",
        "        z = \"z\",                                      # 介入変数\n",
        "        ps = \"e_hat\",                                 # 傾向スコアの推定値\n",
        "        rs = \"y\",                                     # 結果変数\n",
        "        nrep = 0                                      # If nrep = 1, 非復元抽出を実行, otherwise, 復元抽出を実行\n",
        "    )\n",
        ")"
      ],
      "metadata": {
        "id": "sM9PxpE1RzXt"
      },
      "execution_count": 267,
      "outputs": []
    },
    {
      "cell_type": "code",
      "source": [
        "# マッチング後のユーザリスト\n",
        "df_after_matching_rep = matching_result_rep.matched_user_list()"
      ],
      "metadata": {
        "id": "lE2LLIYgXsMb"
      },
      "execution_count": 268,
      "outputs": []
    },
    {
      "cell_type": "markdown",
      "source": [
        "#### マッチング後の傾向スコアの分布"
      ],
      "metadata": {
        "id": "KlMRchIwSKNP"
      }
    },
    {
      "cell_type": "code",
      "source": [
        "# マッチング後の傾向スコアの分布\n",
        "plt.figure(figsize = (10, 6))\n",
        "plt.hist(df_after_matching_rep[df_after_matching_rep[\"z\"] == 0][\"e_hat\"], bins = 50, alpha = 0.5, label = \"CG\")\n",
        "plt.hist(df_after_matching_rep[df_after_matching_rep[\"z\"] == 1][\"e_hat\"], bins = 50, alpha = 0.5, label = \"TG\")\n",
        "plt.legend(loc = \"best\")\n",
        "plt.xlabel(\"Propensity score\")\n",
        "plt.ylabel(\"Count\")"
      ],
      "metadata": {
        "colab": {
          "base_uri": "https://localhost:8080/",
          "height": 405
        },
        "id": "Wdxw4yEeSJr3",
        "outputId": "f8feff4b-b314-4ab2-ae11-a1f370e5f442"
      },
      "execution_count": 269,
      "outputs": [
        {
          "output_type": "execute_result",
          "data": {
            "text/plain": [
              "Text(0, 0.5, 'Count')"
            ]
          },
          "metadata": {},
          "execution_count": 269
        },
        {
          "output_type": "display_data",
          "data": {
            "text/plain": [
              "<Figure size 720x432 with 1 Axes>"
            ],
            "image/png": "[encoded data removed]"
          },
          "metadata": {
            "needs_background": "light"
          }
        }
      ]
    },
    {
      "cell_type": "markdown",
      "source": [
        "#### 特徴量の分布可視化"
      ],
      "metadata": {
        "id": "hgNpxGGGSwdp"
      }
    },
    {
      "cell_type": "code",
      "source": [
        "# 標準化平均差\n",
        "matching_result_rep.standardized_difference()"
      ],
      "metadata": {
        "colab": {
          "base_uri": "https://localhost:8080/",
          "height": 439
        },
        "id": "O-THvz41Syca",
        "outputId": "b207ed5b-370f-4deb-bfe4-90f7ac17dafa"
      },
      "execution_count": 270,
      "outputs": [
        {
          "output_type": "display_data",
          "data": {
            "text/plain": [
              "<Figure size 432x288 with 1 Axes>"
            ],
            "image/png": "[encoded data removed]"
          },
          "metadata": {
            "needs_background": "light"
          }
        },
        {
          "output_type": "execute_result",
          "data": {
            "text/plain": [
              "  index    before     after\n",
              "0    x1  0.674972  0.002632\n",
              "1    x2  0.652676  0.003955\n",
              "2    x3  0.090942  0.006075\n",
              "3    x4  0.033986  0.040895"
            ],
            "text/html": [
              "\n",
              "  <div id=\"df-e793f7d6-e6ca-4a12-a673-8afbb7ea0e49\">\n",
              "    <div class=\"colab-df-container\">\n",
              "      <div>\n",
              "<style scoped>\n",
              "    .dataframe tbody tr th:only-of-type {\n",
              "        vertical-align: middle;\n",
              "    }\n",
              "\n",
              "    .dataframe tbody tr th {\n",
              "        vertical-align: top;\n",
              "    }\n",
              "\n",
              "    .dataframe thead th {\n",
              "        text-align: right;\n",
              "    }\n",
              "</style>\n",
              "<table border=\"1\" class=\"dataframe\">\n",
              "  <thead>\n",
              "    <tr style=\"text-align: right;\">\n",
              "      <th></th>\n",
              "      <th>index</th>\n",
              "      <th>before</th>\n",
              "      <th>after</th>\n",
              "    </tr>\n",
              "  </thead>\n",
              "  <tbody>\n",
              "    <tr>\n",
              "      <th>0</th>\n",
              "      <td>x1</td>\n",
              "      <td>0.674972</td>\n",
              "      <td>0.002632</td>\n",
              "    </tr>\n",
              "    <tr>\n",
              "      <th>1</th>\n",
              "      <td>x2</td>\n",
              "      <td>0.652676</td>\n",
              "      <td>0.003955</td>\n",
              "    </tr>\n",
              "    <tr>\n",
              "      <th>2</th>\n",
              "      <td>x3</td>\n",
              "      <td>0.090942</td>\n",
              "      <td>0.006075</td>\n",
              "    </tr>\n",
              "    <tr>\n",
              "      <th>3</th>\n",
              "      <td>x4</td>\n",
              "      <td>0.033986</td>\n",
              "      <td>0.040895</td>\n",
              "    </tr>\n",
              "  </tbody>\n",
              "</table>\n",
              "</div>\n",
              "      <button class=\"colab-df-convert\" onclick=\"convertToInteractive('df-e793f7d6-e6ca-4a12-a673-8afbb7ea0e49')\"\n",
              "              title=\"Convert this dataframe to an interactive table.\"\n",
              "              style=\"display:none;\">\n",
              "        \n",
              "  <svg xmlns=\"http://www.w3.org/2000/svg\" height=\"24px\"viewBox=\"0 0 24 24\"\n",
              "       width=\"24px\">\n",
              "    <path d=\"M0 0h24v24H0V0z\" fill=\"none\"/>\n",
              "    <path d=\"M18.56 5.44l.94 2.06.94-2.06 2.06-.94-2.06-.94-.94-2.06-.94 2.06-2.06.94zm-11 1L8.5 8.5l.94-2.06 2.06-.94-2.06-.94L8.5 2.5l-.94 2.06-2.06.94zm10 10l.94 2.06.94-2.06 2.06-.94-2.06-.94-.94-2.06-.94 2.06-2.06.94z\"/><path d=\"M17.41 7.96l-1.37-1.37c-.4-.4-.92-.59-1.43-.59-.52 0-1.04.2-1.43.59L10.3 9.45l-7.72 7.72c-.78.78-.78 2.05 0 2.83L4 21.41c.39.39.9.59 1.41.59.51 0 1.02-.2 1.41-.59l7.78-7.78 2.81-2.81c.8-.78.8-2.07 0-2.86zM5.41 20L4 18.59l7.72-7.72 1.47 1.35L5.41 20z\"/>\n",
              "  </svg>\n",
              "      </button>\n",
              "      \n",
              "  <style>\n",
              "    .colab-df-container {\n",
              "      display:flex;\n",
              "      flex-wrap:wrap;\n",
              "      gap: 12px;\n",
              "    }\n",
              "\n",
              "    .colab-df-convert {\n",
              "      background-color: #E8F0FE;\n",
              "      border: none;\n",
              "      border-radius: 50%;\n",
              "      cursor: pointer;\n",
              "      display: none;\n",
              "      fill: #1967D2;\n",
              "      height: 32px;\n",
              "      padding: 0 0 0 0;\n",
              "      width: 32px;\n",
              "    }\n",
              "\n",
              "    .colab-df-convert:hover {\n",
              "      background-color: #E2EBFA;\n",
              "      box-shadow: 0px 1px 2px rgba(60, 64, 67, 0.3), 0px 1px 3px 1px rgba(60, 64, 67, 0.15);\n",
              "      fill: #174EA6;\n",
              "    }\n",
              "\n",
              "    [theme=dark] .colab-df-convert {\n",
              "      background-color: #3B4455;\n",
              "      fill: #D2E3FC;\n",
              "    }\n",
              "\n",
              "    [theme=dark] .colab-df-convert:hover {\n",
              "      background-color: #434B5C;\n",
              "      box-shadow: 0px 1px 3px 1px rgba(0, 0, 0, 0.15);\n",
              "      filter: drop-shadow(0px 1px 2px rgba(0, 0, 0, 0.3));\n",
              "      fill: #FFFFFF;\n",
              "    }\n",
              "  </style>\n",
              "\n",
              "      <script>\n",
              "        const buttonEl =\n",
              "          document.querySelector('#df-e793f7d6-e6ca-4a12-a673-8afbb7ea0e49 button.colab-df-convert');\n",
              "        buttonEl.style.display =\n",
              "          google.colab.kernel.accessAllowed ? 'block' : 'none';\n",
              "\n",
              "        async function convertToInteractive(key) {\n",
              "          const element = document.querySelector('#df-e793f7d6-e6ca-4a12-a673-8afbb7ea0e49');\n",
              "          const dataTable =\n",
              "            await google.colab.kernel.invokeFunction('convertToInteractive',\n",
              "                                                     [key], {});\n",
              "          if (!dataTable) return;\n",
              "\n",
              "          const docLinkHtml = 'Like what you see? Visit the ' +\n",
              "            '<a target=\"_blank\" href=https://colab.research.google.com/notebooks/data_table.ipynb>data table notebook</a>'\n",
              "            + ' to learn more about interactive tables.';\n",
              "          element.innerHTML = '';\n",
              "          dataTable['output_type'] = 'display_data';\n",
              "          await google.colab.output.renderOutput(dataTable, element);\n",
              "          const docLink = document.createElement('div');\n",
              "          docLink.innerHTML = docLinkHtml;\n",
              "          element.appendChild(docLink);\n",
              "        }\n",
              "      </script>\n",
              "    </div>\n",
              "  </div>\n",
              "  "
            ]
          },
          "metadata": {},
          "execution_count": 270
        }
      ]
    },
    {
      "cell_type": "markdown",
      "source": [
        "#### 効果推定"
      ],
      "metadata": {
        "id": "4JSnHmFiS1ln"
      }
    },
    {
      "cell_type": "code",
      "source": [
        "# 傾向スコアマッチング（復元抽出）による効果推定値\n",
        "effect_matching_rep = matching_result_rep.get_effect()\n",
        "effect_matching_rep"
      ],
      "metadata": {
        "colab": {
          "base_uri": "https://localhost:8080/"
        },
        "id": "gR-6spbfS3C9",
        "outputId": "996f8cde-8fa0-4dca-c1ab-00c705683be0"
      },
      "execution_count": 271,
      "outputs": [
        {
          "output_type": "execute_result",
          "data": {
            "text/plain": [
              "-4.9428738301575095"
            ]
          },
          "metadata": {},
          "execution_count": 271
        }
      ]
    },
    {
      "cell_type": "code",
      "source": [
        "# マッチング後のデータを用いた，結果変数の介入変数への単回帰でも同じ結果を得る．\n",
        "Y = df_after_matching_rep[\"y\"]\n",
        "X = sm.add_constant(df_after_matching_rep[\"z\"])\n",
        "result_matching_rep = sm.OLS(Y, X).fit()\n",
        "print(result_matching_rep.summary())"
      ],
      "metadata": {
        "colab": {
          "base_uri": "https://localhost:8080/"
        },
        "id": "eqY-SO-uTGFb",
        "outputId": "6ddb1b74-dd2d-473e-81fc-8afdb33d8d42"
      },
      "execution_count": 272,
      "outputs": [
        {
          "output_type": "stream",
          "name": "stdout",
          "text": [
            "                            OLS Regression Results                            \n",
            "==============================================================================\n",
            "Dep. Variable:                      y   R-squared:                       0.074\n",
            "Model:                            OLS   Adj. R-squared:                  0.073\n",
            "Method:                 Least Squares   F-statistic:                     784.8\n",
            "Date:                Mon, 31 Oct 2022   Prob (F-statistic):          3.08e-166\n",
            "Time:                        14:11:05   Log-Likelihood:                -35478.\n",
            "No. Observations:                9882   AIC:                         7.096e+04\n",
            "Df Residuals:                    9880   BIC:                         7.097e+04\n",
            "Df Model:                           1                                         \n",
            "Covariance Type:            nonrobust                                         \n",
            "==============================================================================\n",
            "                 coef    std err          t      P>|t|      [0.025      0.975]\n",
            "------------------------------------------------------------------------------\n",
            "const         85.1594      0.125    682.561      0.000      84.915      85.404\n",
            "z             -4.9429      0.176    -28.014      0.000      -5.289      -4.597\n",
            "==============================================================================\n",
            "Omnibus:                        4.488   Durbin-Watson:                   1.977\n",
            "Prob(Omnibus):                  0.106   Jarque-Bera (JB):                4.510\n",
            "Skew:                           0.052   Prob(JB):                        0.105\n",
            "Kurtosis:                       2.982   Cond. No.                         2.62\n",
            "==============================================================================\n",
            "\n",
            "Notes:\n",
            "[1] Standard Errors assume that the covariance matrix of the errors is correctly specified.\n"
          ]
        },
        {
          "output_type": "stream",
          "name": "stderr",
          "text": [
            "/usr/local/lib/python3.7/dist-packages/statsmodels/tsa/tsatools.py:142: FutureWarning: In a future version of pandas all arguments of concat except for the argument 'objs' will be keyword-only\n",
            "  x = pd.concat(x[::order], 1)\n"
          ]
        }
      ]
    },
    {
      "cell_type": "markdown",
      "source": [
        "## 5. IPW (Inverse Probability Weighting)"
      ],
      "metadata": {
        "id": "MD_InJlKNtdt"
      }
    },
    {
      "cell_type": "code",
      "source": [
        "# IPW(OW)推定を実行するクラス\n",
        "class Weighting:\n",
        "    \n",
        "    def __init__(self, df, cov_list, z, ps, rs, ow):\n",
        "\n",
        "        \"\"\"\n",
        "        Parameters\n",
        "        ----------\n",
        "        df: data frame\n",
        "          結果変数、介入変数、特徴量、傾向スコアの推定値をカラムとして持つデータフレーム\n",
        "        cov_list: list\n",
        "          特徴量リスト\n",
        "        z: array\n",
        "          介入変数\n",
        "        ps: array\n",
        "          傾向スコアの推定値\n",
        "        rs: array\n",
        "          結果変数\n",
        "        ow:\n",
        "          OWフラグ(0 or 1)\n",
        "        \"\"\"\n",
        "    \n",
        "        self.df = df\n",
        "        self.cov_list = cov_list\n",
        "        self.z = z\n",
        "        self.ps = ps\n",
        "        self.rs = rs\n",
        "        self.ow = ow\n",
        "    \n",
        "        # 介入の有無でデータフレームを分割\n",
        "        self.df0 = self.df[self.df[z] == 0]\n",
        "        self.df1 = self.df[self.df[z] == 1]\n",
        "    \n",
        "    # 各群のIPW(OW)推定量計算\n",
        "    def estimator(self, column):\n",
        "\n",
        "        # For IPW estimation\n",
        "        if self.ow == 0:\n",
        "\n",
        "          est_tg = np.sum((self.df1[self.z] * self.df1[column]) / self.df1[self.ps]) / np.sum(self.df1[self.z] / self.df1[self.ps])\n",
        "          est_cg = np.sum(((1 - self.df0[self.z]) * self.df0[column]) / (1 - self.df0[self.ps])) / np.sum((1 - self.df0[self.z]) / (1 - self.df0[self.ps]))\n",
        "          return est_tg, est_cg\n",
        "        \n",
        "        # For OW estimator\n",
        "        else:\n",
        "\n",
        "          est_tg = np.sum(self.df1[self.z] * self.df1[column] * (1 - self.df1[self.ps])) / np.sum(self.df1[self.z] * (1 - self.df1[self.ps]))\n",
        "          est_cg = np.sum((1 - self.df0[self.z]) * self.df0[column] * self.df0[self.ps]) / np.sum((1 - self.df0[self.z]) * self.df0[self.ps])\n",
        "          return est_tg, est_cg\n",
        "\n",
        "    # 効果推定値算出\n",
        "    def get_effect(self):\n",
        "        self.est_mean1, self.est_mean0 = self.estimator(column = self.rs)\n",
        "        return self.est_mean1 - self.est_mean0\n",
        "\n",
        "    # Covariate Balance Check（標準化平均差を計算）\n",
        "    # Ref: Austin(2011, Multivariate Behav. Res.)\n",
        "    def standardized_difference(self):\n",
        "        \"\"\"\n",
        "        特徴量ごとに調整前後における標準化平均差を計算し、可視化する。\n",
        "        \"\"\"\n",
        "        # 調整前\n",
        "        #-----------------------------------------------------------------------\n",
        "        numer_bf = np.mean(self.df1[self.cov_list]) - np.mean(self.df0[self.cov_list])\n",
        "        denom_bf = np.sqrt( (np.var(self.df1[self.cov_list]) + np.var(self.df0[self.cov_list])) / 2 )\n",
        "        self.cov_sd_bf = abs( numer_bf / denom_bf )\n",
        "\n",
        "        # 調整後\n",
        "        #-----------------------------------------------------------------------\n",
        "        \n",
        "        # For IPW estimation\n",
        "        if self.ow == 0:\n",
        "\n",
        "            # Weighted covariates\n",
        "            weighted_cov1 = self.df1[self.cov_list].apply(lambda x: x / self.df1[self.ps])\n",
        "            weighted_cov0 = self.df0[self.cov_list].apply(lambda x: x / (1 - self.df0[self.ps]))\n",
        "\n",
        "            # Numerator\n",
        "            mu_1 = np.sum(weighted_cov1) / np.sum(1 / self.df1[self.ps])\n",
        "            mu_0 = np.sum(weighted_cov0) / np.sum(1 / (1 - self.df0[self.ps]))\n",
        "            numer_af = mu_1 - mu_0\n",
        "\n",
        "            # Denominator\n",
        "            # Ref: Austin and Stuart(2015, Stat. Med.)\n",
        "            s1_af_coef = np.sum(1 / self.df1[self.ps]) / ( (np.sum(1 / self.df1[self.ps]) * np.sum(1 / self.df1[self.ps])) - np.sum((1 / self.df1[self.ps]) * (1 / self.df1[self.ps])) )\n",
        "            s1_temp1 = (self.df1[self.cov_list] - mu_1) * (self.df1[self.cov_list] - mu_1)\n",
        "            s1_temp2 = s1_temp1.apply(lambda x: x * (1 / self.df1[self.ps]))\n",
        "            s1_af = s1_af_coef * np.sum(s1_temp2)\n",
        "\n",
        "            s0_af_coef = np.sum(1 / (1 - self.df0[self.ps])) / ( (np.sum(1 / (1 - self.df0[self.ps])) * np.sum(1 / (1 - self.df0[self.ps]))) - np.sum((1 / (1 - self.df0[self.ps])) * (1 / (1 - self.df0[self.ps]))) )\n",
        "            s0_temp1 = (self.df0[self.cov_list] - mu_0) * (self.df0[self.cov_list] - mu_0)\n",
        "            s0_temp2 = s0_temp1.apply(lambda x: x * (1 / (1 - self.df0[self.ps])))\n",
        "            s0_af = s0_af_coef * np.sum(s0_temp2)\n",
        "\n",
        "            denom_af = np.sqrt( (s1_af + s0_af) / 2 )\n",
        "\n",
        "            self.cov_sd_af = abs( numer_af / denom_af )\n",
        "        \n",
        "        # For OW estimation\n",
        "        else:\n",
        "\n",
        "            # Weighted covariates\n",
        "            weighted_cov1 = self.df1[self.cov_list].apply(lambda x: x * (1 - self.df1[self.ps]))\n",
        "            weighted_cov0 = self.df0[self.cov_list].apply(lambda x: x * self.df0[self.ps])\n",
        "\n",
        "            # Numerator\n",
        "            mu_1 = np.sum(weighted_cov1) / np.sum((1 - self.df1[self.ps]) * self.df1[self.z])\n",
        "            mu_0 = np.sum(weighted_cov0) / np.sum(self.df0[self.ps] * (1 - self.df0[self.z]))\n",
        "            numer_af = mu_1 - mu_0\n",
        "\n",
        "            # Denominator\n",
        "            s1_af_coef = np.sum(1 - self.df1[self.ps]) / ( (np.sum(1 - self.df1[self.ps]) * np.sum(1 - self.df1[self.ps])) - np.sum((1 - self.df1[self.ps]) * (1 - self.df1[self.ps])) )\n",
        "            s1_temp1 = (self.df1[self.cov_list] - mu_1) * (self.df1[self.cov_list] - mu_1)\n",
        "            s1_temp2 = s1_temp1.apply(lambda x: x * (1 - self.df1[self.ps]))\n",
        "            s1_af = s1_af_coef * np.sum(s1_temp2)\n",
        "\n",
        "            s0_af_coef = np.sum(self.df0[self.ps]) / ( (np.sum(self.df0[self.ps]) * np.sum(self.df0[self.ps])) - np.sum(self.df0[self.ps] * self.df0[self.ps]) )\n",
        "            s0_temp1 = (self.df0[self.cov_list] - mu_0) * (self.df0[self.cov_list] - mu_0)\n",
        "            s0_temp2 = s0_temp1.apply(lambda x: x * self.df0[self.ps])\n",
        "            s0_af = s0_af_coef * np.sum(s0_temp2)\n",
        "\n",
        "            denom_af = np.sqrt( (s1_af + s0_af) / 2 )\n",
        "\n",
        "            self.cov_sd_af = abs( numer_af / denom_af )\n",
        "\n",
        "        # データフレーム化\n",
        "        sd_df = pd.DataFrame({\n",
        "            \"Before\": self.cov_sd_bf, \n",
        "            \"After\": self.cov_sd_af\n",
        "        })\n",
        "        sd_df = sd_df.reset_index()\n",
        "\n",
        "        # 作図：love plot\n",
        "        plt.figure(figsize=(6, 4))\n",
        "        plt.scatter(sd_df['index'], sd_df['Before'], label = 'not adjusted')\n",
        "        plt.scatter(sd_df['index'], sd_df['After'], label = 'adjusted')\n",
        "        plt.hlines([0.1], xmin = -1, xmax = len(self.cov_list), color = \"red\", linestyle = \"dashed\", linewidth = 1)\n",
        "        plt.legend()\n",
        "        plt.ylabel('Standardized mean difference')\n",
        "        plt.xlabel('Covariate')\n",
        "        plt.grid(True)\n",
        "        plt.show()\n",
        "\n",
        "        return sd_df"
      ],
      "metadata": {
        "id": "j4wX5HjCNu7e"
      },
      "execution_count": 273,
      "outputs": []
    },
    {
      "cell_type": "code",
      "source": [
        "# インスタンス作成\n",
        "ipw_result = (\n",
        "    Weighting(\n",
        "        df = df,                                      # データフレーム\n",
        "        cov_list = cov_list_all[\"cov_name\"].tolist(), # 特徴量リスト\n",
        "        z = \"z\",                                      # 介入変数\n",
        "        ps = \"e_hat\",                                 # 傾向スコアの推定値\n",
        "        rs = \"y\",                                     # 結果変数\n",
        "        ow = 0                                        # IF ow = 1, OW estimator is computed, otherwise IPW estimator is computed\n",
        "    )\n",
        ")"
      ],
      "metadata": {
        "id": "27KBHaa9Ira6"
      },
      "execution_count": 274,
      "outputs": []
    },
    {
      "cell_type": "markdown",
      "source": [
        "### 特徴量の分布可視化"
      ],
      "metadata": {
        "id": "T4Zl8BFwMUWl"
      }
    },
    {
      "cell_type": "code",
      "source": [
        "# 標準化平均差\n",
        "ipw_result.standardized_difference()"
      ],
      "metadata": {
        "colab": {
          "base_uri": "https://localhost:8080/",
          "height": 439
        },
        "id": "VOxxHYgoKQJ9",
        "outputId": "f4dabf13-4ce5-4257-e61b-867ba48ed32f"
      },
      "execution_count": 275,
      "outputs": [
        {
          "output_type": "display_data",
          "data": {
            "text/plain": [
              "<Figure size 432x288 with 1 Axes>"
            ],
            "image/png": "[encoded data removed]"
          },
          "metadata": {
            "needs_background": "light"
          }
        },
        {
          "output_type": "execute_result",
          "data": {
            "text/plain": [
              "  index    Before     After\n",
              "0    x1  0.674972  0.013099\n",
              "1    x2  0.652676  0.001973\n",
              "2    x3  0.090942  0.001426\n",
              "3    x4  0.033986  0.000975"
            ],
            "text/html": [
              "\n",
              "  <div id=\"df-829030f4-f530-44dc-b9bd-a68e94c011ac\">\n",
              "    <div class=\"colab-df-container\">\n",
              "      <div>\n",
              "<style scoped>\n",
              "    .dataframe tbody tr th:only-of-type {\n",
              "        vertical-align: middle;\n",
              "    }\n",
              "\n",
              "    .dataframe tbody tr th {\n",
              "        vertical-align: top;\n",
              "    }\n",
              "\n",
              "    .dataframe thead th {\n",
              "        text-align: right;\n",
              "    }\n",
              "</style>\n",
              "<table border=\"1\" class=\"dataframe\">\n",
              "  <thead>\n",
              "    <tr style=\"text-align: right;\">\n",
              "      <th></th>\n",
              "      <th>index</th>\n",
              "      <th>Before</th>\n",
              "      <th>After</th>\n",
              "    </tr>\n",
              "  </thead>\n",
              "  <tbody>\n",
              "    <tr>\n",
              "      <th>0</th>\n",
              "      <td>x1</td>\n",
              "      <td>0.674972</td>\n",
              "      <td>0.013099</td>\n",
              "    </tr>\n",
              "    <tr>\n",
              "      <th>1</th>\n",
              "      <td>x2</td>\n",
              "      <td>0.652676</td>\n",
              "      <td>0.001973</td>\n",
              "    </tr>\n",
              "    <tr>\n",
              "      <th>2</th>\n",
              "      <td>x3</td>\n",
              "      <td>0.090942</td>\n",
              "      <td>0.001426</td>\n",
              "    </tr>\n",
              "    <tr>\n",
              "      <th>3</th>\n",
              "      <td>x4</td>\n",
              "      <td>0.033986</td>\n",
              "      <td>0.000975</td>\n",
              "    </tr>\n",
              "  </tbody>\n",
              "</table>\n",
              "</div>\n",
              "      <button class=\"colab-df-convert\" onclick=\"convertToInteractive('df-829030f4-f530-44dc-b9bd-a68e94c011ac')\"\n",
              "              title=\"Convert this dataframe to an interactive table.\"\n",
              "              style=\"display:none;\">\n",
              "        \n",
              "  <svg xmlns=\"http://www.w3.org/2000/svg\" height=\"24px\"viewBox=\"0 0 24 24\"\n",
              "       width=\"24px\">\n",
              "    <path d=\"M0 0h24v24H0V0z\" fill=\"none\"/>\n",
              "    <path d=\"M18.56 5.44l.94 2.06.94-2.06 2.06-.94-2.06-.94-.94-2.06-.94 2.06-2.06.94zm-11 1L8.5 8.5l.94-2.06 2.06-.94-2.06-.94L8.5 2.5l-.94 2.06-2.06.94zm10 10l.94 2.06.94-2.06 2.06-.94-2.06-.94-.94-2.06-.94 2.06-2.06.94z\"/><path d=\"M17.41 7.96l-1.37-1.37c-.4-.4-.92-.59-1.43-.59-.52 0-1.04.2-1.43.59L10.3 9.45l-7.72 7.72c-.78.78-.78 2.05 0 2.83L4 21.41c.39.39.9.59 1.41.59.51 0 1.02-.2 1.41-.59l7.78-7.78 2.81-2.81c.8-.78.8-2.07 0-2.86zM5.41 20L4 18.59l7.72-7.72 1.47 1.35L5.41 20z\"/>\n",
              "  </svg>\n",
              "      </button>\n",
              "      \n",
              "  <style>\n",
              "    .colab-df-container {\n",
              "      display:flex;\n",
              "      flex-wrap:wrap;\n",
              "      gap: 12px;\n",
              "    }\n",
              "\n",
              "    .colab-df-convert {\n",
              "      background-color: #E8F0FE;\n",
              "      border: none;\n",
              "      border-radius: 50%;\n",
              "      cursor: pointer;\n",
              "      display: none;\n",
              "      fill: #1967D2;\n",
              "      height: 32px;\n",
              "      padding: 0 0 0 0;\n",
              "      width: 32px;\n",
              "    }\n",
              "\n",
              "    .colab-df-convert:hover {\n",
              "      background-color: #E2EBFA;\n",
              "      box-shadow: 0px 1px 2px rgba(60, 64, 67, 0.3), 0px 1px 3px 1px rgba(60, 64, 67, 0.15);\n",
              "      fill: #174EA6;\n",
              "    }\n",
              "\n",
              "    [theme=dark] .colab-df-convert {\n",
              "      background-color: #3B4455;\n",
              "      fill: #D2E3FC;\n",
              "    }\n",
              "\n",
              "    [theme=dark] .colab-df-convert:hover {\n",
              "      background-color: #434B5C;\n",
              "      box-shadow: 0px 1px 3px 1px rgba(0, 0, 0, 0.15);\n",
              "      filter: drop-shadow(0px 1px 2px rgba(0, 0, 0, 0.3));\n",
              "      fill: #FFFFFF;\n",
              "    }\n",
              "  </style>\n",
              "\n",
              "      <script>\n",
              "        const buttonEl =\n",
              "          document.querySelector('#df-829030f4-f530-44dc-b9bd-a68e94c011ac button.colab-df-convert');\n",
              "        buttonEl.style.display =\n",
              "          google.colab.kernel.accessAllowed ? 'block' : 'none';\n",
              "\n",
              "        async function convertToInteractive(key) {\n",
              "          const element = document.querySelector('#df-829030f4-f530-44dc-b9bd-a68e94c011ac');\n",
              "          const dataTable =\n",
              "            await google.colab.kernel.invokeFunction('convertToInteractive',\n",
              "                                                     [key], {});\n",
              "          if (!dataTable) return;\n",
              "\n",
              "          const docLinkHtml = 'Like what you see? Visit the ' +\n",
              "            '<a target=\"_blank\" href=https://colab.research.google.com/notebooks/data_table.ipynb>data table notebook</a>'\n",
              "            + ' to learn more about interactive tables.';\n",
              "          element.innerHTML = '';\n",
              "          dataTable['output_type'] = 'display_data';\n",
              "          await google.colab.output.renderOutput(dataTable, element);\n",
              "          const docLink = document.createElement('div');\n",
              "          docLink.innerHTML = docLinkHtml;\n",
              "          element.appendChild(docLink);\n",
              "        }\n",
              "      </script>\n",
              "    </div>\n",
              "  </div>\n",
              "  "
            ]
          },
          "metadata": {},
          "execution_count": 275
        }
      ]
    },
    {
      "cell_type": "markdown",
      "source": [
        "### 効果推定"
      ],
      "metadata": {
        "id": "ECiXNTXgMYnw"
      }
    },
    {
      "cell_type": "code",
      "source": [
        "# IPWによる効果推定値\n",
        "effect_ipw = ipw_result.get_effect()\n",
        "effect_ipw"
      ],
      "metadata": {
        "colab": {
          "base_uri": "https://localhost:8080/"
        },
        "id": "rLEEHR-pLJSN",
        "outputId": "227e65e5-b971-498b-c2e8-f7ea144720a2"
      },
      "execution_count": 276,
      "outputs": [
        {
          "output_type": "execute_result",
          "data": {
            "text/plain": [
              "-4.876353531195079"
            ]
          },
          "metadata": {},
          "execution_count": 276
        }
      ]
    },
    {
      "cell_type": "code",
      "source": [
        "# Weighted Least Squares(WLS)でも同じ結果を得る\n",
        "\n",
        "# 推定用データセット\n",
        "df_ipw = df.copy()\n",
        "df_ipw[\"weight\"] = (df_ipw[\"z\"] / df_ipw[\"e_hat\"]) + ((1 - df_ipw[\"z\"]) / (1 - df_ipw[\"e_hat\"]))\n",
        "\n",
        "# WLS\n",
        "Y = df_ipw[\"y\"]\n",
        "X = sm.add_constant(df_ipw[\"z\"])\n",
        "result_ipw = sm.WLS(Y, X, weights = df_ipw[\"weight\"]).fit()\n",
        "print(result_ipw.summary())"
      ],
      "metadata": {
        "colab": {
          "base_uri": "https://localhost:8080/"
        },
        "id": "IMLgx2tRMa0G",
        "outputId": "082793fd-72ab-49b0-f186-a25154e44358"
      },
      "execution_count": 277,
      "outputs": [
        {
          "output_type": "stream",
          "name": "stdout",
          "text": [
            "                            WLS Regression Results                            \n",
            "==============================================================================\n",
            "Dep. Variable:                      y   R-squared:                       0.058\n",
            "Model:                            WLS   Adj. R-squared:                  0.058\n",
            "Method:                 Least Squares   F-statistic:                     619.2\n",
            "Date:                Mon, 31 Oct 2022   Prob (F-statistic):          1.13e-132\n",
            "Time:                        14:11:25   Log-Likelihood:                -37575.\n",
            "No. Observations:               10000   AIC:                         7.515e+04\n",
            "Df Residuals:                    9998   BIC:                         7.517e+04\n",
            "Df Model:                           1                                         \n",
            "Covariance Type:            nonrobust                                         \n",
            "==============================================================================\n",
            "                 coef    std err          t      P>|t|      [0.025      0.975]\n",
            "------------------------------------------------------------------------------\n",
            "const         80.9998      0.138    586.243      0.000      80.729      81.271\n",
            "z             -4.8764      0.196    -24.884      0.000      -5.260      -4.492\n",
            "==============================================================================\n",
            "Omnibus:                     1533.262   Durbin-Watson:                   1.878\n",
            "Prob(Omnibus):                  0.000   Jarque-Bera (JB):            23878.372\n",
            "Skew:                          -0.187   Prob(JB):                         0.00\n",
            "Kurtosis:                      10.561   Cond. No.                         2.61\n",
            "==============================================================================\n",
            "\n",
            "Notes:\n",
            "[1] Standard Errors assume that the covariance matrix of the errors is correctly specified.\n"
          ]
        },
        {
          "output_type": "stream",
          "name": "stderr",
          "text": [
            "/usr/local/lib/python3.7/dist-packages/statsmodels/tsa/tsatools.py:142: FutureWarning: In a future version of pandas all arguments of concat except for the argument 'objs' will be keyword-only\n",
            "  x = pd.concat(x[::order], 1)\n"
          ]
        }
      ]
    },
    {
      "cell_type": "markdown",
      "source": [
        "## 6. OW (Overlap Weighting)"
      ],
      "metadata": {
        "id": "fgI6PNYLNvgg"
      }
    },
    {
      "cell_type": "code",
      "source": [
        "#インスタンス作成\n",
        "ow_result = (\n",
        "    Weighting(\n",
        "        df = df,                                      # データフレーム\n",
        "        cov_list = cov_list_all[\"cov_name\"].tolist(), # 特徴量リスト\n",
        "        z = \"z\",                                      # 介入変数\n",
        "        ps = \"e_hat\",                                 # 傾向スコアの推定値\n",
        "        rs = \"y\",                                     # 結果変数\n",
        "        ow = 1                                        # IF ow = 1, OW estimator is computed, otherwise IPW estimator is computed \n",
        "    )\n",
        ")"
      ],
      "metadata": {
        "id": "IwgWR0WxOB8K"
      },
      "execution_count": 278,
      "outputs": []
    },
    {
      "cell_type": "markdown",
      "source": [
        "### 特徴量の分布可視化"
      ],
      "metadata": {
        "id": "TG03nvjjORGZ"
      }
    },
    {
      "cell_type": "code",
      "source": [
        "# 標準化平均差\n",
        "# Exact balance property: exactに0ではないが，極めて小さい値になっている\n",
        "ow_result.standardized_difference()"
      ],
      "metadata": {
        "colab": {
          "base_uri": "https://localhost:8080/",
          "height": 439
        },
        "id": "d6B5ildAOQm5",
        "outputId": "f2fad67c-6391-44be-fe49-fdd13b51bb23"
      },
      "execution_count": 279,
      "outputs": [
        {
          "output_type": "display_data",
          "data": {
            "text/plain": [
              "<Figure size 432x288 with 1 Axes>"
            ],
            "image/png": "[encoded data removed]"
          },
          "metadata": {
            "needs_background": "light"
          }
        },
        {
          "output_type": "execute_result",
          "data": {
            "text/plain": [
              "  index    Before         After\n",
              "0    x1  0.674972  2.315136e-17\n",
              "1    x2  0.652676  3.972070e-17\n",
              "2    x3  0.090942  5.551566e-16\n",
              "3    x4  0.033986  5.551050e-16"
            ],
            "text/html": [
              "\n",
              "  <div id=\"df-cfd1d3aa-82d6-49b7-9171-0c7c4ee922cd\">\n",
              "    <div class=\"colab-df-container\">\n",
              "      <div>\n",
              "<style scoped>\n",
              "    .dataframe tbody tr th:only-of-type {\n",
              "        vertical-align: middle;\n",
              "    }\n",
              "\n",
              "    .dataframe tbody tr th {\n",
              "        vertical-align: top;\n",
              "    }\n",
              "\n",
              "    .dataframe thead th {\n",
              "        text-align: right;\n",
              "    }\n",
              "</style>\n",
              "<table border=\"1\" class=\"dataframe\">\n",
              "  <thead>\n",
              "    <tr style=\"text-align: right;\">\n",
              "      <th></th>\n",
              "      <th>index</th>\n",
              "      <th>Before</th>\n",
              "      <th>After</th>\n",
              "    </tr>\n",
              "  </thead>\n",
              "  <tbody>\n",
              "    <tr>\n",
              "      <th>0</th>\n",
              "      <td>x1</td>\n",
              "      <td>0.674972</td>\n",
              "      <td>2.315136e-17</td>\n",
              "    </tr>\n",
              "    <tr>\n",
              "      <th>1</th>\n",
              "      <td>x2</td>\n",
              "      <td>0.652676</td>\n",
              "      <td>3.972070e-17</td>\n",
              "    </tr>\n",
              "    <tr>\n",
              "      <th>2</th>\n",
              "      <td>x3</td>\n",
              "      <td>0.090942</td>\n",
              "      <td>5.551566e-16</td>\n",
              "    </tr>\n",
              "    <tr>\n",
              "      <th>3</th>\n",
              "      <td>x4</td>\n",
              "      <td>0.033986</td>\n",
              "      <td>5.551050e-16</td>\n",
              "    </tr>\n",
              "  </tbody>\n",
              "</table>\n",
              "</div>\n",
              "      <button class=\"colab-df-convert\" onclick=\"convertToInteractive('df-cfd1d3aa-82d6-49b7-9171-0c7c4ee922cd')\"\n",
              "              title=\"Convert this dataframe to an interactive table.\"\n",
              "              style=\"display:none;\">\n",
              "        \n",
              "  <svg xmlns=\"http://www.w3.org/2000/svg\" height=\"24px\"viewBox=\"0 0 24 24\"\n",
              "       width=\"24px\">\n",
              "    <path d=\"M0 0h24v24H0V0z\" fill=\"none\"/>\n",
              "    <path d=\"M18.56 5.44l.94 2.06.94-2.06 2.06-.94-2.06-.94-.94-2.06-.94 2.06-2.06.94zm-11 1L8.5 8.5l.94-2.06 2.06-.94-2.06-.94L8.5 2.5l-.94 2.06-2.06.94zm10 10l.94 2.06.94-2.06 2.06-.94-2.06-.94-.94-2.06-.94 2.06-2.06.94z\"/><path d=\"M17.41 7.96l-1.37-1.37c-.4-.4-.92-.59-1.43-.59-.52 0-1.04.2-1.43.59L10.3 9.45l-7.72 7.72c-.78.78-.78 2.05 0 2.83L4 21.41c.39.39.9.59 1.41.59.51 0 1.02-.2 1.41-.59l7.78-7.78 2.81-2.81c.8-.78.8-2.07 0-2.86zM5.41 20L4 18.59l7.72-7.72 1.47 1.35L5.41 20z\"/>\n",
              "  </svg>\n",
              "      </button>\n",
              "      \n",
              "  <style>\n",
              "    .colab-df-container {\n",
              "      display:flex;\n",
              "      flex-wrap:wrap;\n",
              "      gap: 12px;\n",
              "    }\n",
              "\n",
              "    .colab-df-convert {\n",
              "      background-color: #E8F0FE;\n",
              "      border: none;\n",
              "      border-radius: 50%;\n",
              "      cursor: pointer;\n",
              "      display: none;\n",
              "      fill: #1967D2;\n",
              "      height: 32px;\n",
              "      padding: 0 0 0 0;\n",
              "      width: 32px;\n",
              "    }\n",
              "\n",
              "    .colab-df-convert:hover {\n",
              "      background-color: #E2EBFA;\n",
              "      box-shadow: 0px 1px 2px rgba(60, 64, 67, 0.3), 0px 1px 3px 1px rgba(60, 64, 67, 0.15);\n",
              "      fill: #174EA6;\n",
              "    }\n",
              "\n",
              "    [theme=dark] .colab-df-convert {\n",
              "      background-color: #3B4455;\n",
              "      fill: #D2E3FC;\n",
              "    }\n",
              "\n",
              "    [theme=dark] .colab-df-convert:hover {\n",
              "      background-color: #434B5C;\n",
              "      box-shadow: 0px 1px 3px 1px rgba(0, 0, 0, 0.15);\n",
              "      filter: drop-shadow(0px 1px 2px rgba(0, 0, 0, 0.3));\n",
              "      fill: #FFFFFF;\n",
              "    }\n",
              "  </style>\n",
              "\n",
              "      <script>\n",
              "        const buttonEl =\n",
              "          document.querySelector('#df-cfd1d3aa-82d6-49b7-9171-0c7c4ee922cd button.colab-df-convert');\n",
              "        buttonEl.style.display =\n",
              "          google.colab.kernel.accessAllowed ? 'block' : 'none';\n",
              "\n",
              "        async function convertToInteractive(key) {\n",
              "          const element = document.querySelector('#df-cfd1d3aa-82d6-49b7-9171-0c7c4ee922cd');\n",
              "          const dataTable =\n",
              "            await google.colab.kernel.invokeFunction('convertToInteractive',\n",
              "                                                     [key], {});\n",
              "          if (!dataTable) return;\n",
              "\n",
              "          const docLinkHtml = 'Like what you see? Visit the ' +\n",
              "            '<a target=\"_blank\" href=https://colab.research.google.com/notebooks/data_table.ipynb>data table notebook</a>'\n",
              "            + ' to learn more about interactive tables.';\n",
              "          element.innerHTML = '';\n",
              "          dataTable['output_type'] = 'display_data';\n",
              "          await google.colab.output.renderOutput(dataTable, element);\n",
              "          const docLink = document.createElement('div');\n",
              "          docLink.innerHTML = docLinkHtml;\n",
              "          element.appendChild(docLink);\n",
              "        }\n",
              "      </script>\n",
              "    </div>\n",
              "  </div>\n",
              "  "
            ]
          },
          "metadata": {},
          "execution_count": 279
        }
      ]
    },
    {
      "cell_type": "markdown",
      "source": [
        "### 効果推定"
      ],
      "metadata": {
        "id": "G2saiVdMOTUw"
      }
    },
    {
      "cell_type": "code",
      "source": [
        "# OWによる効果推定値\n",
        "effect_ow = ow_result.get_effect()\n",
        "effect_ow"
      ],
      "metadata": {
        "colab": {
          "base_uri": "https://localhost:8080/"
        },
        "id": "Y1J16sRbOVDn",
        "outputId": "63bd0207-2755-4ebe-db8d-b504614a355a"
      },
      "execution_count": 280,
      "outputs": [
        {
          "output_type": "execute_result",
          "data": {
            "text/plain": [
              "-4.986566062369647"
            ]
          },
          "metadata": {},
          "execution_count": 280
        }
      ]
    },
    {
      "cell_type": "code",
      "source": [
        "# Weighted Least Squares(WLS)でも同じ結果を得る\n",
        "\n",
        "# 推定用データセット\n",
        "df_ow = df.copy()\n",
        "df_ow[\"weight\"] = (df_ow[\"z\"] * (1 - df_ow[\"e_hat\"])) + ((1 - df_ow[\"z\"]) * df_ow[\"e_hat\"])\n",
        "\n",
        "# WLS\n",
        "Y = df_ow[\"y\"]\n",
        "X = sm.add_constant(df_ow[\"z\"])\n",
        "result_ow = sm.WLS(Y, X, weights = df_ow[\"weight\"]).fit()\n",
        "print(result_ow.summary())"
      ],
      "metadata": {
        "colab": {
          "base_uri": "https://localhost:8080/"
        },
        "id": "3M5FpoMsPTaZ",
        "outputId": "2feac6df-791a-4eb1-9c2d-a2c343d77a89"
      },
      "execution_count": 281,
      "outputs": [
        {
          "output_type": "stream",
          "name": "stdout",
          "text": [
            "                            WLS Regression Results                            \n",
            "==============================================================================\n",
            "Dep. Variable:                      y   R-squared:                       0.088\n",
            "Model:                            WLS   Adj. R-squared:                  0.088\n",
            "Method:                 Least Squares   F-statistic:                     963.1\n",
            "Date:                Mon, 31 Oct 2022   Prob (F-statistic):          5.86e-202\n",
            "Time:                        14:11:52   Log-Likelihood:                -35871.\n",
            "No. Observations:               10000   AIC:                         7.175e+04\n",
            "Df Residuals:                    9998   BIC:                         7.176e+04\n",
            "Df Model:                           1                                         \n",
            "Covariance Type:            nonrobust                                         \n",
            "==============================================================================\n",
            "                 coef    std err          t      P>|t|      [0.025      0.975]\n",
            "------------------------------------------------------------------------------\n",
            "const         80.9364      0.114    712.343      0.000      80.714      81.159\n",
            "z             -4.9866      0.161    -31.034      0.000      -5.302      -4.672\n",
            "==============================================================================\n",
            "Omnibus:                      156.213   Durbin-Watson:                   1.893\n",
            "Prob(Omnibus):                  0.000   Jarque-Bera (JB):              302.652\n",
            "Skew:                           0.031   Prob(JB):                     1.91e-66\n",
            "Kurtosis:                       3.850   Cond. No.                         2.62\n",
            "==============================================================================\n",
            "\n",
            "Notes:\n",
            "[1] Standard Errors assume that the covariance matrix of the errors is correctly specified.\n"
          ]
        },
        {
          "output_type": "stream",
          "name": "stderr",
          "text": [
            "/usr/local/lib/python3.7/dist-packages/statsmodels/tsa/tsatools.py:142: FutureWarning: In a future version of pandas all arguments of concat except for the argument 'objs' will be keyword-only\n",
            "  x = pd.concat(x[::order], 1)\n"
          ]
        }
      ]
    },
    {
      "cell_type": "markdown",
      "source": [
        "## 各手法での効果推定値"
      ],
      "metadata": {
        "id": "7HWTsHKgwhgj"
      }
    },
    {
      "cell_type": "code",
      "source": [
        "# 各手法での効果推定値をデータフレームにまとめる\n",
        "estimates = pd.DataFrame({\n",
        "    \"Estimates\": [effect_true, \n",
        "                  effect_naive, \n",
        "                  effect_matching_nrep, \n",
        "                  effect_matching_rep, \n",
        "                  effect_ipw, \n",
        "                  effect_ow]\n",
        "})\n",
        "estimates.index = [\"真の効果\", \n",
        "                   \"単純な群間比較\", \n",
        "                   \"最近傍マッチング（非復元抽出）\", \n",
        "                   \"最近傍マッチング（復元抽出）\", \n",
        "                   \"Inverse Probability Weighting (IPW)\", \n",
        "                   \"Overlap Weighting (OW)\"]\n",
        "estimates"
      ],
      "metadata": {
        "colab": {
          "base_uri": "https://localhost:8080/",
          "height": 238
        },
        "id": "NS01IEnQwhBT",
        "outputId": "24d675d2-007d-4ced-8148-d4e8c01bad5c"
      },
      "execution_count": 282,
      "outputs": [
        {
          "output_type": "execute_result",
          "data": {
            "text/plain": [
              "                                     Estimates\n",
              "真の効果                                 -5.000000\n",
              "単純な群間比較                               3.563346\n",
              "最近傍マッチング（非復元抽出）                      -4.625687\n",
              "最近傍マッチング（復元抽出）                       -4.942874\n",
              "Inverse Probability Weighting (IPW)  -4.876354\n",
              "Overlap Weighting (OW)               -4.986566"
            ],
            "text/html": [
              "\n",
              "  <div id=\"df-5e5801d4-121f-42ca-aae7-901b2e5e561b\">\n",
              "    <div class=\"colab-df-container\">\n",
              "      <div>\n",
              "<style scoped>\n",
              "    .dataframe tbody tr th:only-of-type {\n",
              "        vertical-align: middle;\n",
              "    }\n",
              "\n",
              "    .dataframe tbody tr th {\n",
              "        vertical-align: top;\n",
              "    }\n",
              "\n",
              "    .dataframe thead th {\n",
              "        text-align: right;\n",
              "    }\n",
              "</style>\n",
              "<table border=\"1\" class=\"dataframe\">\n",
              "  <thead>\n",
              "    <tr style=\"text-align: right;\">\n",
              "      <th></th>\n",
              "      <th>Estimates</th>\n",
              "    </tr>\n",
              "  </thead>\n",
              "  <tbody>\n",
              "    <tr>\n",
              "      <th>真の効果</th>\n",
              "      <td>-5.000000</td>\n",
              "    </tr>\n",
              "    <tr>\n",
              "      <th>単純な群間比較</th>\n",
              "      <td>3.563346</td>\n",
              "    </tr>\n",
              "    <tr>\n",
              "      <th>最近傍マッチング（非復元抽出）</th>\n",
              "      <td>-4.625687</td>\n",
              "    </tr>\n",
              "    <tr>\n",
              "      <th>最近傍マッチング（復元抽出）</th>\n",
              "      <td>-4.942874</td>\n",
              "    </tr>\n",
              "    <tr>\n",
              "      <th>Inverse Probability Weighting (IPW)</th>\n",
              "      <td>-4.876354</td>\n",
              "    </tr>\n",
              "    <tr>\n",
              "      <th>Overlap Weighting (OW)</th>\n",
              "      <td>-4.986566</td>\n",
              "    </tr>\n",
              "  </tbody>\n",
              "</table>\n",
              "</div>\n",
              "      <button class=\"colab-df-convert\" onclick=\"convertToInteractive('df-5e5801d4-121f-42ca-aae7-901b2e5e561b')\"\n",
              "              title=\"Convert this dataframe to an interactive table.\"\n",
              "              style=\"display:none;\">\n",
              "        \n",
              "  <svg xmlns=\"http://www.w3.org/2000/svg\" height=\"24px\"viewBox=\"0 0 24 24\"\n",
              "       width=\"24px\">\n",
              "    <path d=\"M0 0h24v24H0V0z\" fill=\"none\"/>\n",
              "    <path d=\"M18.56 5.44l.94 2.06.94-2.06 2.06-.94-2.06-.94-.94-2.06-.94 2.06-2.06.94zm-11 1L8.5 8.5l.94-2.06 2.06-.94-2.06-.94L8.5 2.5l-.94 2.06-2.06.94zm10 10l.94 2.06.94-2.06 2.06-.94-2.06-.94-.94-2.06-.94 2.06-2.06.94z\"/><path d=\"M17.41 7.96l-1.37-1.37c-.4-.4-.92-.59-1.43-.59-.52 0-1.04.2-1.43.59L10.3 9.45l-7.72 7.72c-.78.78-.78 2.05 0 2.83L4 21.41c.39.39.9.59 1.41.59.51 0 1.02-.2 1.41-.59l7.78-7.78 2.81-2.81c.8-.78.8-2.07 0-2.86zM5.41 20L4 18.59l7.72-7.72 1.47 1.35L5.41 20z\"/>\n",
              "  </svg>\n",
              "      </button>\n",
              "      \n",
              "  <style>\n",
              "    .colab-df-container {\n",
              "      display:flex;\n",
              "      flex-wrap:wrap;\n",
              "      gap: 12px;\n",
              "    }\n",
              "\n",
              "    .colab-df-convert {\n",
              "      background-color: #E8F0FE;\n",
              "      border: none;\n",
              "      border-radius: 50%;\n",
              "      cursor: pointer;\n",
              "      display: none;\n",
              "      fill: #1967D2;\n",
              "      height: 32px;\n",
              "      padding: 0 0 0 0;\n",
              "      width: 32px;\n",
              "    }\n",
              "\n",
              "    .colab-df-convert:hover {\n",
              "      background-color: #E2EBFA;\n",
              "      box-shadow: 0px 1px 2px rgba(60, 64, 67, 0.3), 0px 1px 3px 1px rgba(60, 64, 67, 0.15);\n",
              "      fill: #174EA6;\n",
              "    }\n",
              "\n",
              "    [theme=dark] .colab-df-convert {\n",
              "      background-color: #3B4455;\n",
              "      fill: #D2E3FC;\n",
              "    }\n",
              "\n",
              "    [theme=dark] .colab-df-convert:hover {\n",
              "      background-color: #434B5C;\n",
              "      box-shadow: 0px 1px 3px 1px rgba(0, 0, 0, 0.15);\n",
              "      filter: drop-shadow(0px 1px 2px rgba(0, 0, 0, 0.3));\n",
              "      fill: #FFFFFF;\n",
              "    }\n",
              "  </style>\n",
              "\n",
              "      <script>\n",
              "        const buttonEl =\n",
              "          document.querySelector('#df-5e5801d4-121f-42ca-aae7-901b2e5e561b button.colab-df-convert');\n",
              "        buttonEl.style.display =\n",
              "          google.colab.kernel.accessAllowed ? 'block' : 'none';\n",
              "\n",
              "        async function convertToInteractive(key) {\n",
              "          const element = document.querySelector('#df-5e5801d4-121f-42ca-aae7-901b2e5e561b');\n",
              "          const dataTable =\n",
              "            await google.colab.kernel.invokeFunction('convertToInteractive',\n",
              "                                                     [key], {});\n",
              "          if (!dataTable) return;\n",
              "\n",
              "          const docLinkHtml = 'Like what you see? Visit the ' +\n",
              "            '<a target=\"_blank\" href=https://colab.research.google.com/notebooks/data_table.ipynb>data table notebook</a>'\n",
              "            + ' to learn more about interactive tables.';\n",
              "          element.innerHTML = '';\n",
              "          dataTable['output_type'] = 'display_data';\n",
              "          await google.colab.output.renderOutput(dataTable, element);\n",
              "          const docLink = document.createElement('div');\n",
              "          docLink.innerHTML = docLinkHtml;\n",
              "          element.appendChild(docLink);\n",
              "        }\n",
              "      </script>\n",
              "    </div>\n",
              "  </div>\n",
              "  "
            ]
          },
          "metadata": {},
          "execution_count": 282
        }
      ]
    }
  ]
}